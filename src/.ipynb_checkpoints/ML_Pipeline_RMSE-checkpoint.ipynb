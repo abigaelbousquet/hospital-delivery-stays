{
 "cells": [
  {
   "cell_type": "markdown",
   "id": "6daffc30-d807-49dd-acf4-cd1a4debb333",
   "metadata": {},
   "source": [
    "# The ML Pipeline for a Model to Predict Length of Hospital Delivery Stay"
   ]
  },
  {
   "cell_type": "code",
   "execution_count": 1,
   "id": "a2e1aae7-2027-452c-96a3-b18f3ad17ab9",
   "metadata": {},
   "outputs": [],
   "source": [
    "import pandas as pd\n",
    "import numpy as np\n",
    "import math\n",
    "from matplotlib import pyplot as plt\n",
    "import matplotlib\n",
    "from math import ceil\n",
    "import pickle\n",
    "\n",
    "from sklearn.model_selection import train_test_split\n",
    "from sklearn.model_selection import KFold\n",
    "from sklearn.model_selection import PredefinedSplit\n",
    "\n",
    "from sklearn.preprocessing import StandardScaler, OneHotEncoder, OrdinalEncoder\n",
    "from sklearn.impute import SimpleImputer\n",
    "\n",
    "from sklearn.metrics import mean_squared_error\n",
    "from sklearn.metrics import r2_score\n",
    "\n",
    "from sklearn.pipeline import Pipeline, make_pipeline\n",
    "from sklearn.model_selection import GridSearchCV\n",
    "from sklearn.compose import ColumnTransformer\n",
    "from sklearn.model_selection import ParameterGrid\n",
    "\n",
    "from sklearn.linear_model import Lasso, Ridge, ElasticNet\n",
    "from sklearn.ensemble import RandomForestRegressor\n",
    "from sklearn.svm import SVR\n",
    "import xgboost"
   ]
  },
  {
   "cell_type": "markdown",
   "id": "40a734ae-9df2-4e6c-9ce0-e881526fa6c3",
   "metadata": {},
   "source": [
    "# Gather Data"
   ]
  },
  {
   "cell_type": "code",
   "execution_count": 2,
   "id": "5e92028e-4fd9-4bf8-831b-6d87f3fac3db",
   "metadata": {},
   "outputs": [],
   "source": [
    "# specifying data types for the columns to maintain formatting from original data\n",
    "data_types = {\n",
    "    'hospital_service_area': object, \n",
    "    'hospital_county': object,\n",
    "    'operating_certificate_number': object, \n",
    "    'permanent_facility_id': object,\n",
    "    'facility_name': object, \n",
    "    'age_group': object, \n",
    "    'zip_code_3_digits': object, \n",
    "    'gender': object, \n",
    "    'race': object,\n",
    "    'ethnicity': object, \n",
    "    'payment_typology_1': object, \n",
    "    'payment_typology_2': object,\n",
    "    'payment_typology_3': object, \n",
    "    'length_of_stay': int\n",
    "}"
   ]
  },
  {
   "cell_type": "code",
   "execution_count": 3,
   "id": "c1c42813-9ee4-475c-8763-e8a09f079e84",
   "metadata": {},
   "outputs": [],
   "source": [
    "all_visits = pd.read_csv('../data/planned_deliveries.csv', dtype=data_types)\n",
    "all_visits = all_visits.loc[:, all_visits.columns != 'Unnamed: 0']\n",
    "y = all_visits['length_of_stay']\n",
    "X = all_visits.loc[:, all_visits.columns != 'length_of_stay']"
   ]
  },
  {
   "cell_type": "markdown",
   "id": "fbaa60e9-dfac-4d76-a82f-163fd716631a",
   "metadata": {},
   "source": [
    "# Compute Baseline Score"
   ]
  },
  {
   "cell_type": "code",
   "execution_count": 4,
   "id": "08d1984a-32b5-4316-bd14-e6f995e34c93",
   "metadata": {},
   "outputs": [
    {
     "name": "stdout",
     "output_type": "stream",
     "text": [
      "Mean length of stay: 2.3057860029780897\n",
      "Median length of stay: 2.0\n"
     ]
    }
   ],
   "source": [
    "mean_length_of_stay = np.mean(y)\n",
    "median_length_of_stay = np.median(y)\n",
    "print('Mean length of stay:', mean_length_of_stay)\n",
    "print('Median length of stay:', median_length_of_stay)"
   ]
  },
  {
   "cell_type": "code",
   "execution_count": 5,
   "id": "3d66be54-e842-4b5c-8714-2a0ff75a102b",
   "metadata": {},
   "outputs": [],
   "source": [
    "y_pred_mean = pd.Series([mean_length_of_stay]*len(y))"
   ]
  },
  {
   "cell_type": "markdown",
   "id": "d6dddfc9-1035-4244-aecb-46989a49f70b",
   "metadata": {},
   "source": [
    "#### RMSE [days]"
   ]
  },
  {
   "cell_type": "code",
   "execution_count": 6,
   "id": "94a0438f-fe91-4c1e-8c85-d22bcebcc69e",
   "metadata": {},
   "outputs": [
    {
     "name": "stdout",
     "output_type": "stream",
     "text": [
      "Baseline RMSE [days]: 0.9016674407635193\n"
     ]
    }
   ],
   "source": [
    "baseline_rmse = mean_squared_error(y, y_pred_mean, squared=False)\n",
    "print('Baseline RMSE [days]:', baseline_rmse)"
   ]
  },
  {
   "cell_type": "markdown",
   "id": "c67d0b05-ca87-4fec-a375-924ea95b86ba",
   "metadata": {},
   "source": [
    "# Split, Train, and Cross Validate - RMSE Evaluation Metric"
   ]
  },
  {
   "cell_type": "markdown",
   "id": "37b21561-78db-485c-b842-1c44797890aa",
   "metadata": {},
   "source": [
    "### Set up functions for automated pipeline"
   ]
  },
  {
   "cell_type": "code",
   "execution_count": 7,
   "id": "7f3d998e-7882-4c07-90bb-368cd0df11df",
   "metadata": {},
   "outputs": [],
   "source": [
    "def stratified_continuous_split(X:pd.DataFrame, y:pd.Series, train_size:float, val_size:float, test_size:float, random_state:int):\n",
    "    '''\n",
    "    Performs a stratified split of inputted data (with respect to y) into a training set, validation set, and test set to specified percentages \n",
    "    of the data using verstack's scsplit and performs basic error checking.\n",
    "\n",
    "    Parameters:\n",
    "    - X: a 2D pandas DataFrame, the feature matrix\n",
    "    - y: a 1D pandas Series, the target variable matrix matching X\n",
    "    - train_size: a float between 0 and 1, the percentage of X which should be training data\n",
    "    - val_size: a float between 0 and 1, the percentage of X which should be reserved for validation\n",
    "    - test_size: a float between 0 and 1, the percentage of X which should be reserved for final testing\n",
    "    - random_state: an int, the random state to split with\n",
    "    Note: The sum of train_size + val_size + test_size must be 1.0 (100% of X).\n",
    "\n",
    "    Returns:\n",
    "    - (X_train) a 2D pandas DataFrame, the feature matrix of training data\n",
    "    - (y_train) a 1D pandas Series, the target variable matrix for training data\n",
    "    - (X_val) a 2D pandas DataFrame, the feature matrix of validation data\n",
    "    - (y_val) a 1D pandas Series, the target variable matrix for validation data\n",
    "    - (X_test) a 2D pandas DataFrame, the feature matrix of testing data\n",
    "    - (y_test) a 1D pandas Series, the target variable matrix for testing data\n",
    "\n",
    "    Raises:\n",
    "    - ValueError for invalid input\n",
    "    '''\n",
    "    from verstack.stratified_continuous_split import scsplit\n",
    "    \n",
    "    if ((train_size + val_size + test_size) != 1):\n",
    "        raise ValueError('Your train_size + val_size + test_size must add up to 1 (100%)!')\n",
    "    if (not isinstance(random_state, int)):\n",
    "        raise ValueError('Your random_state must be an int!')\n",
    "\n",
    "    X_train, X_other, y_train, y_other = scsplit(X, y, stratify=y, test_size=(1-train_size), random_state=random_state)\n",
    "    \n",
    "    X_len = X.shape[0]\n",
    "    test_percent_of_other = (test_size * X_len)/(X_len - (train_size * X_len))\n",
    "    X_other = X_other.reset_index(drop=True)\n",
    "    y_other = y_other.reset_index(drop=True)\n",
    "    \n",
    "    X_val, X_test, y_val, y_test = scsplit(X_other, y_other, stratify=y_other, test_size=test_percent_of_other, random_state=random_state)\n",
    "\n",
    "    # basic error checking to check that split returned train, val, and test of expected sizes\n",
    "    train_count_low = (int)(train_size * X_len)\n",
    "    train_count_high = ceil(train_size * X_len)\n",
    "    val_count_low = (int)(val_size * X_len)\n",
    "    val_count_high = ceil(val_size * X_len)\n",
    "    test_count_low = (int)(test_size * X_len)\n",
    "    test_count_high = ceil(test_size * X_len)\n",
    "    \n",
    "    Xtrain_fin = X_train.shape[0]\n",
    "    ytrain_fin = y_train.shape[0]\n",
    "    Xval_fin = X_val.shape[0]\n",
    "    yval_fin = y_val.shape[0]\n",
    "    Xtest_fin = X_test.shape[0]\n",
    "    ytest_fin = y_test.shape[0]\n",
    "    \n",
    "    if not (((Xtrain_fin == train_count_low) or (Xtrain_fin == train_count_high)) and ((ytrain_fin == train_count_low) or (ytrain_fin == train_count_high))):\n",
    "        raise ValueError(f'Training set size should be approx. {train_size * X_len}, instead is: {X_train.shape[0]}')\n",
    "    if not (((Xval_fin == val_count_low) or (Xval_fin == val_count_high)) and ((yval_fin == val_count_low) or (yval_fin == val_count_high))):\n",
    "        raise ValueError(f'Validation set size should be approx. {val_size * X_len}, instead is: {X_val.shape[0]}')\n",
    "    if not (((Xtest_fin == test_count_low) or (Xtest_fin == test_count_high)) and ((ytest_fin == test_count_low) or (ytest_fin == test_count_high))):\n",
    "        raise ValueError(f'Test set size should be approx. {test_size * X_len}, instead is: {X_test.shape[0]}')\n",
    "    \n",
    "    return X_train, y_train, X_val, y_val, X_test, y_test"
   ]
  },
  {
   "cell_type": "code",
   "execution_count": 14,
   "id": "a5bf7c9d-c403-458f-94c1-e17d51fe36f1",
   "metadata": {},
   "outputs": [],
   "source": [
    "def MLpipe_Stratified_Continous_RMSE(X, y, preprocessor, ML_algo, param_grid, xgb=False):\n",
    "    '''\n",
    "    This function splits the data to train, validation, and test (60/20/20).\n",
    "    The RMSE is minimized in cross-validation.\n",
    "    \n",
    "    This function:\n",
    "    1. Loops through 10 different random states\n",
    "    2. Splits the data 60/20/20.\n",
    "    3. Fits a model with the predefined Preprocessor, trains the model with each hyperparameter combination in param_grid\n",
    "    4. Calculates the model's error on the test set on the model with the best hyperparameter combinations in param_grid\n",
    "    5. Returns a list of 10 test scores and 10 best models\n",
    "\n",
    "    Arguments:\n",
    "    - X: a 2D pandas DataFrame, the raw (not preprocessed) feature matrix\n",
    "    - y: a 1D pandas Series, the raw (not preprocessed) target variable matrix matching X\n",
    "    - preprocessor: a ColumnTransformer to use for preprocessing X\n",
    "    - ML_algo: an initialized supervised machine learning algorithm;\n",
    "               currently supports linear regression, random forest regression, SVR, and XGBoost regressor models\n",
    "    - param_grid: a dictionary matching ML_algo parameters to a list of values to try in hyperparameter tuning,\n",
    "                  keys must be formatted with prefix of the algorithm's name followed by two underscores\n",
    "    - xgb: a boolean with default value False, if the ML model is an XGBoost model or not\n",
    "\n",
    "    Returns:\n",
    "    - (test_scores) a list of the 10 best models' test scores (1 for each random state)\n",
    "    - (best_models) a list of the 10 best models of type ML_algo (1 for each random state)\n",
    "    - (test_Xs) a list of the 10 DataFrames of test feature matricies corresponding to the test scores returned\n",
    "    - (test_ys) a list of the 10 Series of true target variable values corresponding to the test scores returned\n",
    "    '''\n",
    "    \n",
    "    # lists to be returned\n",
    "    test_scores = []\n",
    "    best_models = []\n",
    "    test_Xs = []\n",
    "    test_ys = []\n",
    "\n",
    "    nr_states = 10\n",
    "    for i in range(nr_states):\n",
    "        rs = 28 * i\n",
    "        print('Random State:', rs)\n",
    "\n",
    "        # split\n",
    "        X_train, y_train, X_val, y_val, X_test, y_test = stratified_continuous_split(X, y, train_size=0.6, val_size=0.2, test_size=0.2, random_state=rs)\n",
    "\n",
    "        # preprocess\n",
    "        X_train_prep = preprocessor.fit_transform(X_train)\n",
    "        X_val_prep = preprocessor.transform(X_val)\n",
    "        X_test_prep = preprocessor.transform(X_test)\n",
    "\n",
    "        # final preprocess with Standard Scaler so that I can use the coefficients of linear models as global importance metrics\n",
    "        final_scaler = StandardScaler()\n",
    "        X_train_prep = final_scaler.fit_transform(X_train_prep)\n",
    "        X_val_prep = final_scaler.transform(X_val_prep)\n",
    "        X_test_prep = final_scaler.transform(X_test_prep)\n",
    "\n",
    "        test_Xs.append(X_test_prep)\n",
    "        test_ys.append(y_test)\n",
    "\n",
    "        # train and perform cross-validation        \n",
    "        models = []\n",
    "        val_scores = []\n",
    "        for p in range(len(ParameterGrid(param_grid))):\n",
    "            params = ParameterGrid(param_grid)[p]\n",
    "            if (xgb):\n",
    "                clf = ML_algo.fit(X_train_prep, y_train, early_stopping_rounds=50, eval_set=[(X_val_prep, y_val)], verbose=False)\n",
    "            else:\n",
    "                clf = ML_algo.fit(X_train_prep, y_train)\n",
    "            models.append(clf)\n",
    "            y_val_pred = clf.predict(X_val_prep)\n",
    "            val_scores.append(mean_squared_error(y_val, y_val_pred, squared=False))\n",
    "\n",
    "        # save results\n",
    "        print('    Best Model Parameters:', ParameterGrid(param_grid)[np.argmin(val_scores)])\n",
    "        print('    Validation Set RMSE:', np.min(val_scores))\n",
    "        best_model_this_rs = models[np.argmin(val_scores)]\n",
    "        best_models.append(best_model_this_rs)\n",
    "        y_test_pred = best_model_this_rs.predict(X_test_prep)\n",
    "        test_score = mean_squared_error(y_test, y_test_pred, squared=False)\n",
    "        test_scores.append(test_score)\n",
    "        mean_length_of_stay = np.mean(y_test)\n",
    "        print('    Baseline RMSE (test set):', mean_squared_error(y_test, pd.Series([mean_length_of_stay]*len(y_test))))\n",
    "        print('    Test RMSE:', test_score)\n",
    "    return test_scores, best_models, test_Xs, test_ys"
   ]
  },
  {
   "cell_type": "markdown",
   "id": "fc9cba21-6c66-4a06-9e71-4f460ead95cf",
   "metadata": {},
   "source": [
    "### Run and Cross Validate Several Models - RMSE"
   ]
  },
  {
   "cell_type": "code",
   "execution_count": 10,
   "id": "5254d042-8228-4f97-b134-ab6334a0d71c",
   "metadata": {},
   "outputs": [],
   "source": [
    "def unique_non_nans(X, ftr):\n",
    "    '''\n",
    "    Determines the unique, non-nan values of a certain feature in a feature matrix.\n",
    "    Does not error check that ftr is in fact a column in X; this is the responsibility of the caller.\n",
    "    \n",
    "    - X: a 2D DataFrame feature matrix containing the feature of interest as a column\n",
    "    - ftr: a string, the name of the feature to explore in X\n",
    "    \n",
    "    Returns:\n",
    "    - (unique_vals_nonull) a list of the unique, non-null values of ftr in X, replacing a nan value with 'not reported'\n",
    "    '''\n",
    "    unique_vals = X[ftr].unique()\n",
    "    unique_vals_nonull = ['not reported' if isinstance(x, float) and np.isnan(x) else x for x in unique_vals]\n",
    "\n",
    "    return unique_vals_nonull    "
   ]
  },
  {
   "cell_type": "code",
   "execution_count": 11,
   "id": "5e9ec7bf-5599-4c98-b336-6a6e5d3df7c5",
   "metadata": {},
   "outputs": [],
   "source": [
    "random_state = 42\n",
    "\n",
    "# categorizing the columns in my dataset by how they should be encoded\n",
    "onehot_ftrs = ['hospital_service_area', 'hospital_county', 'operating_certificate_number', 'permanent_facility_id', \\\n",
    "               'facility_name', 'zip_code_3_digits', 'gender', 'race', 'ethnicity', 'payment_typology_1', \\\n",
    "               'payment_typology_2', 'payment_typology_3']\n",
    "onehot_cats = [unique_non_nans(X, ftr) for ftr in onehot_ftrs]\n",
    "ordinal_ftrs = ['age_group']\n",
    "ordinal_cats = [['0 to 17', '18 to 29', '30 to 49', '50 to 69', '70 or Older']]\n",
    "\n",
    "# replace missing values in categorical columns with 'not reported'\n",
    "categorical_transformer = Pipeline(steps=[\n",
    "    ('imputer', SimpleImputer(strategy='constant', fill_value='not reported')),\n",
    "    ('onehot', OneHotEncoder(categories=onehot_cats, sparse=False, handle_unknown='ignore'))])\n",
    "\n",
    "# my data has no missing values in its ordinal column, so only encoding is necessary\n",
    "ordinal_transformer = Pipeline(steps=[\n",
    "    ('ordinal', OrdinalEncoder(categories = ordinal_cats))])\n",
    "\n",
    "preprocessor = ColumnTransformer(\n",
    "    transformers=[\n",
    "        ('onehot', categorical_transformer, onehot_ftrs),\n",
    "        ('ordinal', ordinal_transformer, ordinal_ftrs)])"
   ]
  },
  {
   "cell_type": "code",
   "execution_count": 12,
   "id": "168e775a-dd9d-4708-997c-794da1abde1c",
   "metadata": {},
   "outputs": [],
   "source": [
    "# keeping track of scores\n",
    "models_rmses = pd.DataFrame(columns=['RMSE', 'l1', 'l2', 'Elastic Net', 'Random Forest Regressor', 'SVR', 'XGBoost Regressor'])\n",
    "models_rmses['RMSE'] = pd.Series(['mean', 'std dev'])\n",
    "models_rmses = models_rmses.set_index('RMSE')"
   ]
  },
  {
   "cell_type": "markdown",
   "id": "304e22d1-2f60-4f49-a854-ba624fd0df8f",
   "metadata": {},
   "source": [
    "#### (1) Linear Regression with l1 Regularization"
   ]
  },
  {
   "cell_type": "code",
   "execution_count": 15,
   "id": "864e2e5b-53b4-4da3-983c-ab1e6304735c",
   "metadata": {},
   "outputs": [
    {
     "name": "stdout",
     "output_type": "stream",
     "text": [
      "Random State: 0\n",
      "    Best Model Parameters: {'lasso__alpha': 1.3656370263406605}\n",
      "    Validation Set RMSE: 0.8935949027356813\n",
      "    Baseline RMSE (test set): 0.8209483679920447\n",
      "    Test RMSE: 0.9060625652325364\n",
      "Random State: 28\n",
      "    Best Model Parameters: {'lasso__alpha': 1.3656370263406605}\n",
      "    Validation Set RMSE: 0.8943722755526549\n",
      "    Baseline RMSE (test set): 0.8023362967344005\n",
      "    Test RMSE: 0.8957330448081982\n",
      "Random State: 56\n",
      "    Best Model Parameters: {'lasso__alpha': 1.3656370263406605}\n",
      "    Validation Set RMSE: 0.8943724758747483\n",
      "    Baseline RMSE (test set): 0.7985102425069394\n",
      "    Test RMSE: 0.8935953196069969\n",
      "Random State: 84\n",
      "    Best Model Parameters: {'lasso__alpha': 1.3656370263406605}\n",
      "    Validation Set RMSE: 0.8935953196069968\n",
      "    Baseline RMSE (test set): 0.7998978587740607\n",
      "    Test RMSE: 0.8943724758747483\n",
      "Random State: 112\n",
      "    Best Model Parameters: {'lasso__alpha': 1.3656370263406605}\n",
      "    Validation Set RMSE: 0.9160331114616256\n",
      "    Baseline RMSE (test set): 0.7998978587740608\n",
      "    Test RMSE: 0.8943712580906668\n",
      "Random State: 140\n",
      "    Best Model Parameters: {'lasso__alpha': 1.3656370263406605}\n",
      "    Validation Set RMSE: 0.8843912093971624\n",
      "    Baseline RMSE (test set): 0.8162659053959312\n",
      "    Test RMSE: 0.9034749081003206\n",
      "Random State: 168\n",
      "    Best Model Parameters: {'lasso__alpha': 1.3656370263406605}\n",
      "    Validation Set RMSE: 0.8787284379916777\n",
      "    Baseline RMSE (test set): 0.8316709344515328\n",
      "    Test RMSE: 0.9119600361292256\n",
      "Random State: 196\n",
      "    Best Model Parameters: {'lasso__alpha': 1.3656370263406605}\n",
      "    Validation Set RMSE: 0.8917505589732748\n",
      "    Baseline RMSE (test set): 0.8031924223200353\n",
      "    Test RMSE: 0.8962118395762857\n",
      "Random State: 224\n",
      "    Best Model Parameters: {'lasso__alpha': 1.3656370263406605}\n",
      "    Validation Set RMSE: 0.898104386234781\n",
      "    Baseline RMSE (test set): 0.8070186179390053\n",
      "    Test RMSE: 0.89834304451432\n",
      "Random State: 252\n",
      "    Best Model Parameters: {'lasso__alpha': 1.3656370263406605}\n",
      "    Validation Set RMSE: 0.8943719012613855\n",
      "    Baseline RMSE (test set): 0.8137103952663255\n",
      "    Test RMSE: 0.9020590980836592\n"
     ]
    }
   ],
   "source": [
    "lin_reg_l1 = Lasso(random_state=random_state)\n",
    "l1_params = {\n",
    "    'lasso__alpha': np.logspace(math.exp(-2), math.exp(2), 21)\n",
    "}\n",
    "l1_test_scores, l1_best_models, l1_test_Xs, l1_test_ys = MLpipe_Stratified_Continous_RMSE(X, y, preprocessor=preprocessor, ML_algo=lin_reg_l1, param_grid=l1_params)"
   ]
  },
  {
   "cell_type": "code",
   "execution_count": 16,
   "id": "50447805-e62f-40fb-bfaf-e40c73665753",
   "metadata": {},
   "outputs": [
    {
     "name": "stdout",
     "output_type": "stream",
     "text": [
      "****Metrics with l1 Linear Regression:****\n",
      "Mean RMSE: 0.8996183590016958\n",
      "Std. Deviation of RMSE: 0.005782125870334668\n"
     ]
    }
   ],
   "source": [
    "print('****Metrics with l1 Linear Regression:****')\n",
    "mean = np.mean(l1_test_scores)\n",
    "std = np.std(l1_test_scores)\n",
    "models_rmses['l1']['mean'] = mean\n",
    "models_rmses['l1']['std dev'] = std\n",
    "print('Mean RMSE:', mean)\n",
    "print('Std. Deviation of RMSE:', std)"
   ]
  },
  {
   "cell_type": "code",
   "execution_count": 17,
   "id": "cb3c9583-7fa5-497a-8a4a-19132e688767",
   "metadata": {},
   "outputs": [],
   "source": [
    "file = open('../results/lin_reg_l1.save', 'wb')\n",
    "best_model_index = np.argmin(l1_test_scores)\n",
    "pickle.dump((l1_best_models[best_model_index], l1_test_Xs[best_model_index], l1_test_ys[best_model_index]), file)\n",
    "file.close()"
   ]
  },
  {
   "cell_type": "markdown",
   "id": "75f8fabf-e4a6-44c3-979e-ea1d68f9b6e9",
   "metadata": {},
   "source": [
    "#### (2) Linear Regression with l2 Regularization"
   ]
  },
  {
   "cell_type": "code",
   "execution_count": 18,
   "id": "fff4e8ac-7b84-43cf-96ea-df51afb251ee",
   "metadata": {},
   "outputs": [
    {
     "name": "stdout",
     "output_type": "stream",
     "text": [
      "Random State: 0\n",
      "    Best Model Parameters: {'ridge__alpha': 1.3656370263406605}\n",
      "    Validation Set RMSE: 0.8573809137552495\n",
      "    Baseline RMSE (test set): 0.8162659053959312\n",
      "    Test RMSE: 0.8751860016356476\n",
      "Random State: 28\n",
      "    Best Model Parameters: {'ridge__alpha': 1.3656370263406605}\n",
      "    Validation Set RMSE: 0.8663862212169134\n",
      "    Baseline RMSE (test set): 0.8023362967344005\n",
      "    Test RMSE: 0.8598233472524134\n",
      "Random State: 56\n",
      "    Best Model Parameters: {'ridge__alpha': 1.3656370263406605}\n",
      "    Validation Set RMSE: 0.8625293918481787\n",
      "    Baseline RMSE (test set): 0.7985102425069394\n",
      "    Test RMSE: 0.8671131350438647\n",
      "Random State: 84\n",
      "    Best Model Parameters: {'ridge__alpha': 1.3656370263406605}\n",
      "    Validation Set RMSE: 0.8577693591578243\n",
      "    Baseline RMSE (test set): 0.7998978587740607\n",
      "    Test RMSE: 0.8607684974498054\n",
      "Random State: 112\n",
      "    Best Model Parameters: {'ridge__alpha': 1.3656370263406605}\n",
      "    Validation Set RMSE: 0.8886716828086011\n",
      "    Baseline RMSE (test set): 0.7998978587740608\n",
      "    Test RMSE: 0.8624106657422752\n",
      "Random State: 140\n",
      "    Best Model Parameters: {'ridge__alpha': 1.3656370263406605}\n",
      "    Validation Set RMSE: 0.8533049714676583\n",
      "    Baseline RMSE (test set): 0.8162659053959312\n",
      "    Test RMSE: 0.8673946151281633\n",
      "Random State: 168\n",
      "    Best Model Parameters: {'ridge__alpha': 1.3656370263406605}\n",
      "    Validation Set RMSE: 0.8487641965234882\n",
      "    Baseline RMSE (test set): 0.8316709344515328\n",
      "    Test RMSE: 0.8809082925218789\n",
      "Random State: 196\n",
      "    Best Model Parameters: {'ridge__alpha': 1.3656370263406605}\n",
      "    Validation Set RMSE: 0.855606177836306\n",
      "    Baseline RMSE (test set): 0.8031924223200353\n",
      "    Test RMSE: 0.8665886783082775\n",
      "Random State: 224\n",
      "    Best Model Parameters: {'ridge__alpha': 1.3656370263406605}\n",
      "    Validation Set RMSE: 0.8736663296418913\n",
      "    Baseline RMSE (test set): 0.8070186179390053\n",
      "    Test RMSE: 0.8689026638668766\n",
      "Random State: 252\n",
      "    Best Model Parameters: {'ridge__alpha': 1.3656370263406605}\n",
      "    Validation Set RMSE: 0.8650212854748497\n",
      "    Baseline RMSE (test set): 0.8137103952663255\n",
      "    Test RMSE: 0.8736862925739742\n"
     ]
    }
   ],
   "source": [
    "lin_reg_l2 = Ridge(random_state=random_state)\n",
    "l2_params = {\n",
    "    'ridge__alpha': np.logspace(math.exp(-2), math.exp(2), 21)\n",
    "}\n",
    "l2_test_scores, l2_best_models, l2_test_Xs, l2_test_ys = MLpipe_Stratified_Continous_RMSE(X, y, preprocessor=preprocessor, ML_algo=lin_reg_l2, param_grid=l2_params)"
   ]
  },
  {
   "cell_type": "code",
   "execution_count": 19,
   "id": "92be3415-d539-4c13-ad27-0325f23ec2ea",
   "metadata": {},
   "outputs": [
    {
     "name": "stdout",
     "output_type": "stream",
     "text": [
      "****Metrics with l2 Linear Regression:****\n",
      "Mean RMSE: 0.8682782189523177\n",
      "Std. Deviation of RMSE: 0.0063574766119954725\n"
     ]
    }
   ],
   "source": [
    "print('****Metrics with l2 Linear Regression:****')\n",
    "mean = np.mean(l2_test_scores)\n",
    "std = np.std(l2_test_scores)\n",
    "models_rmses['l2']['mean'] = mean\n",
    "models_rmses['l2']['std dev'] = std\n",
    "print('Mean RMSE:', mean)\n",
    "print('Std. Deviation of RMSE:', std)"
   ]
  },
  {
   "cell_type": "code",
   "execution_count": 20,
   "id": "a803fe0a-33a1-4120-86ab-9d3205434472",
   "metadata": {},
   "outputs": [],
   "source": [
    "file = open('../results/lin_reg_l2.save', 'wb')\n",
    "best_model_index = np.argmin(l2_test_scores)\n",
    "pickle.dump((l2_best_models[best_model_index], l2_test_Xs[best_model_index], l2_test_ys[best_model_index]), file)\n",
    "file.close()"
   ]
  },
  {
   "cell_type": "markdown",
   "id": "3fd739b3-4790-40fe-8eee-5a2024e7a6f0",
   "metadata": {},
   "source": [
    "#### (3) Linear Regression with Elastic Net Regularization"
   ]
  },
  {
   "cell_type": "code",
   "execution_count": 21,
   "id": "dd21266b-48b1-46f8-9591-7790247eeb8b",
   "metadata": {},
   "outputs": [
    {
     "name": "stdout",
     "output_type": "stream",
     "text": [
      "Random State: 0\n",
      "    Best Model Parameters: {'elasticnet__l1_ratio': 0.0, 'elasticnet__alpha': 1.3656370263406605}\n",
      "    Validation Set RMSE: 0.8865510222531405\n",
      "    Baseline RMSE (test set): 0.8162659053959312\n",
      "    Test RMSE: 0.9034748141373455\n",
      "Random State: 28\n",
      "    Best Model Parameters: {'elasticnet__l1_ratio': 0.0, 'elasticnet__alpha': 1.3656370263406605}\n",
      "    Validation Set RMSE: 0.8943722755526549\n",
      "    Baseline RMSE (test set): 0.8023362967344005\n",
      "    Test RMSE: 0.8957330448081982\n",
      "Random State: 56\n",
      "    Best Model Parameters: {'elasticnet__l1_ratio': 0.0, 'elasticnet__alpha': 1.3656370263406605}\n",
      "    Validation Set RMSE: 0.8943724758747483\n",
      "    Baseline RMSE (test set): 0.7985102425069394\n",
      "    Test RMSE: 0.8935953196069969\n",
      "Random State: 84\n",
      "    Best Model Parameters: {'elasticnet__l1_ratio': 0.0, 'elasticnet__alpha': 1.3656370263406605}\n",
      "    Validation Set RMSE: 0.8935953196069968\n",
      "    Baseline RMSE (test set): 0.7998978587740607\n",
      "    Test RMSE: 0.8943724758747483\n",
      "Random State: 112\n",
      "    Best Model Parameters: {'elasticnet__l1_ratio': 0.0, 'elasticnet__alpha': 1.3656370263406605}\n",
      "    Validation Set RMSE: 0.9160331114616256\n",
      "    Baseline RMSE (test set): 0.7998978587740608\n",
      "    Test RMSE: 0.8943712580906668\n",
      "Random State: 140\n",
      "    Best Model Parameters: {'elasticnet__l1_ratio': 0.0, 'elasticnet__alpha': 1.3656370263406605}\n",
      "    Validation Set RMSE: 0.8843912093971624\n",
      "    Baseline RMSE (test set): 0.8162659053959312\n",
      "    Test RMSE: 0.9034749081003206\n",
      "Random State: 168\n",
      "    Best Model Parameters: {'elasticnet__l1_ratio': 0.0, 'elasticnet__alpha': 1.3656370263406605}\n",
      "    Validation Set RMSE: 0.8787284379916777\n",
      "    Baseline RMSE (test set): 0.8316709344515328\n",
      "    Test RMSE: 0.9119600361292256\n",
      "Random State: 196\n",
      "    Best Model Parameters: {'elasticnet__l1_ratio': 0.0, 'elasticnet__alpha': 1.3656370263406605}\n",
      "    Validation Set RMSE: 0.8917505589732748\n",
      "    Baseline RMSE (test set): 0.8031924223200353\n",
      "    Test RMSE: 0.8962118395762857\n",
      "Random State: 224\n",
      "    Best Model Parameters: {'elasticnet__l1_ratio': 0.0, 'elasticnet__alpha': 1.3656370263406605}\n",
      "    Validation Set RMSE: 0.898104386234781\n",
      "    Baseline RMSE (test set): 0.8070186179390053\n",
      "    Test RMSE: 0.89834304451432\n",
      "Random State: 252\n",
      "    Best Model Parameters: {'elasticnet__l1_ratio': 0.0, 'elasticnet__alpha': 1.3656370263406605}\n",
      "    Validation Set RMSE: 0.8943719012613855\n",
      "    Baseline RMSE (test set): 0.8137103952663255\n",
      "    Test RMSE: 0.9020590980836592\n"
     ]
    }
   ],
   "source": [
    "lin_reg_elastic = ElasticNet(random_state=random_state)\n",
    "elastic_params = {\n",
    "    'elasticnet__alpha': np.logspace(math.exp(-2), math.exp(2), 21),\n",
    "    'elasticnet__l1_ratio': np.linspace(0, 1, 21)\n",
    "}\n",
    "elastic_test_scores, elastic_best_models, elastic_test_Xs, elastic_test_ys = MLpipe_Stratified_Continous_RMSE(X, y, preprocessor=preprocessor, ML_algo=lin_reg_elastic, param_grid=elastic_params)"
   ]
  },
  {
   "cell_type": "code",
   "execution_count": 22,
   "id": "f7787243-775a-488f-86c6-bbc58ac4b9c0",
   "metadata": {},
   "outputs": [
    {
     "name": "stdout",
     "output_type": "stream",
     "text": [
      "****Metrics with Elastic Net Linear Regression:****\n",
      "Mean RMSE: 0.8993595838921766\n",
      "Std. Deviation of RMSE: 0.0055407996038346575\n"
     ]
    }
   ],
   "source": [
    "print('****Metrics with Elastic Net Linear Regression:****')\n",
    "mean = np.mean(elastic_test_scores)\n",
    "std = np.std(elastic_test_scores)\n",
    "models_rmses['Elastic Net']['mean'] = mean\n",
    "models_rmses['Elastic Net']['std dev'] = std\n",
    "print('Mean RMSE:', mean)\n",
    "print('Std. Deviation of RMSE:', std)"
   ]
  },
  {
   "cell_type": "code",
   "execution_count": 23,
   "id": "b0db7bea-784d-46dd-a7f9-db609dc198ad",
   "metadata": {},
   "outputs": [],
   "source": [
    "file = open('../results/lin_reg_elastic_net.save', 'wb')\n",
    "best_model_index = np.argmin(elastic_test_scores)\n",
    "pickle.dump((elastic_best_models[best_model_index], elastic_test_Xs[best_model_index], elastic_test_ys[best_model_index]), file)\n",
    "file.close()"
   ]
  },
  {
   "cell_type": "markdown",
   "id": "07d53026-73fa-46a4-9d8e-468cde8cf185",
   "metadata": {},
   "source": [
    "#### (4) Random Forest Regressor"
   ]
  },
  {
   "cell_type": "code",
   "execution_count": 24,
   "id": "7004c165-78a3-41f3-9ec0-e111e7377331",
   "metadata": {},
   "outputs": [
    {
     "name": "stdout",
     "output_type": "stream",
     "text": [
      "Random State: 0\n",
      "    Best Model Parameters: {'randomforestregressor__max_features': 1, 'randomforestregressor__max_depth': 1}\n",
      "    Validation Set RMSE: 0.9441374245617995\n",
      "    Baseline RMSE (test set): 0.8162659053959312\n",
      "    Test RMSE: 0.9435899483633553\n",
      "Random State: 28\n",
      "    Best Model Parameters: {'randomforestregressor__max_features': 1, 'randomforestregressor__max_depth': 1}\n",
      "    Validation Set RMSE: 0.9276978559011436\n",
      "    Baseline RMSE (test set): 0.8023362967344005\n",
      "    Test RMSE: 0.9395228578559748\n",
      "Random State: 56\n",
      "    Best Model Parameters: {'randomforestregressor__max_features': 1, 'randomforestregressor__max_depth': 1}\n",
      "    Validation Set RMSE: 0.9266875832294577\n",
      "    Baseline RMSE (test set): 0.7985102425069394\n",
      "    Test RMSE: 0.9340469556081087\n",
      "Random State: 84\n",
      "    Best Model Parameters: {'randomforestregressor__max_features': 1, 'randomforestregressor__max_depth': 1}\n",
      "    Validation Set RMSE: 0.9302880909330861\n",
      "    Baseline RMSE (test set): 0.7998978587740607\n",
      "    Test RMSE: 0.92559043169306\n",
      "Random State: 112\n",
      "    Best Model Parameters: {'randomforestregressor__max_features': 1, 'randomforestregressor__max_depth': 1}\n",
      "    Validation Set RMSE: 0.9457647162813907\n",
      "    Baseline RMSE (test set): 0.7998978587740608\n",
      "    Test RMSE: 0.9235822284628722\n",
      "Random State: 140\n",
      "    Best Model Parameters: {'randomforestregressor__max_features': 3, 'randomforestregressor__max_depth': 1}\n",
      "    Validation Set RMSE: 0.921434556721875\n",
      "    Baseline RMSE (test set): 0.8162659053959312\n",
      "    Test RMSE: 0.9357206184542537\n",
      "Random State: 168\n",
      "    Best Model Parameters: {'randomforestregressor__max_features': 1, 'randomforestregressor__max_depth': 8}\n",
      "    Validation Set RMSE: 0.9047218735531558\n",
      "    Baseline RMSE (test set): 0.8316709344515328\n",
      "    Test RMSE: 0.9531675201178225\n",
      "Random State: 196\n",
      "    Best Model Parameters: {'randomforestregressor__max_features': 1, 'randomforestregressor__max_depth': 1}\n",
      "    Validation Set RMSE: 0.9331135631036251\n",
      "    Baseline RMSE (test set): 0.8031924223200353\n",
      "    Test RMSE: 0.9316988086042722\n",
      "Random State: 224\n",
      "    Best Model Parameters: {'randomforestregressor__max_features': 30, 'randomforestregressor__max_depth': 1}\n",
      "    Validation Set RMSE: 0.9470012144442157\n",
      "    Baseline RMSE (test set): 0.8070186179390053\n",
      "    Test RMSE: 0.9441582643473291\n",
      "Random State: 252\n",
      "    Best Model Parameters: {'randomforestregressor__max_features': 1, 'randomforestregressor__max_depth': 1}\n",
      "    Validation Set RMSE: 0.9208084826175147\n",
      "    Baseline RMSE (test set): 0.8137103952663255\n",
      "    Test RMSE: 0.9492831995607606\n"
     ]
    }
   ],
   "source": [
    "random_forest_reg = RandomForestRegressor(n_jobs=-1, n_estimators=100, random_state=random_state)\n",
    "rf_params = {\n",
    "    'randomforestregressor__max_features': [1, 3, 10, 30],\n",
    "    'randomforestregressor__max_depth': [1, 2, 3, 4, 5, 6, 7, 8, 9, 10]\n",
    "}\n",
    "rf_test_scores, rf_best_models, rf_test_Xs, rf_test_ys = MLpipe_Stratified_Continous_RMSE(X, y, preprocessor=preprocessor, ML_algo=random_forest_reg, param_grid=rf_params)"
   ]
  },
  {
   "cell_type": "code",
   "execution_count": 26,
   "id": "a7148fab-8608-4f3a-ab16-0440fe8d71c6",
   "metadata": {},
   "outputs": [
    {
     "name": "stdout",
     "output_type": "stream",
     "text": [
      "****Metrics with Random Forest Regression:****\n",
      "Mean RMSE: 0.9380360833067808\n",
      "Std. Deviation of RMSE: 0.009226260088414212\n"
     ]
    }
   ],
   "source": [
    "print('****Metrics with Random Forest Regression:****')\n",
    "mean = np.mean(rf_test_scores)\n",
    "std = np.std(rf_test_scores)\n",
    "models_rmses['Random Forest Regressor']['mean'] = mean\n",
    "models_rmses['Random Forest Regressor']['std dev'] = std\n",
    "print('Mean RMSE:', mean)\n",
    "print('Std. Deviation of RMSE:', std)"
   ]
  },
  {
   "cell_type": "code",
   "execution_count": 27,
   "id": "8b0b05e1-4fa9-4220-9fd1-3b86ed6e55af",
   "metadata": {},
   "outputs": [],
   "source": [
    "file = open('../results/random_forest_regressor.save', 'wb')\n",
    "best_model_index = np.argmin(rf_test_scores)\n",
    "pickle.dump((rf_best_models[best_model_index], rf_test_Xs[best_model_index], rf_test_ys[best_model_index]), file)\n",
    "file.close()"
   ]
  },
  {
   "cell_type": "markdown",
   "id": "7df3d17f-cd30-4f06-8812-4dd4a19157af",
   "metadata": {},
   "source": [
    "#### (5) Support Vector Regression (SVR)"
   ]
  },
  {
   "cell_type": "code",
   "execution_count": 28,
   "id": "35d0a4f7-48ba-4c5b-8d13-9a9b133e7a41",
   "metadata": {},
   "outputs": [
    {
     "name": "stdout",
     "output_type": "stream",
     "text": [
      "Random State: 0\n",
      "    Best Model Parameters: {'svr__gamma': 0.001, 'svr__C': 0.1}\n",
      "    Validation Set RMSE: 0.8797803091926238\n",
      "    Baseline RMSE (test set): 0.8162659053959312\n",
      "    Test RMSE: 0.9038676919455402\n",
      "Random State: 28\n",
      "    Best Model Parameters: {'svr__gamma': 0.001, 'svr__C': 0.1}\n",
      "    Validation Set RMSE: 0.8945910580648586\n",
      "    Baseline RMSE (test set): 0.8023362967344005\n",
      "    Test RMSE: 0.8849388528798542\n",
      "Random State: 56\n",
      "    Best Model Parameters: {'svr__gamma': 0.001, 'svr__C': 0.1}\n",
      "    Validation Set RMSE: 0.882540320576815\n",
      "    Baseline RMSE (test set): 0.7985102425069394\n",
      "    Test RMSE: 0.8889780059159369\n",
      "Random State: 84\n",
      "    Best Model Parameters: {'svr__gamma': 0.001, 'svr__C': 0.1}\n",
      "    Validation Set RMSE: 0.8772711088587577\n",
      "    Baseline RMSE (test set): 0.7998978587740607\n",
      "    Test RMSE: 0.8845531390704332\n",
      "Random State: 112\n",
      "    Best Model Parameters: {'svr__gamma': 0.001, 'svr__C': 0.1}\n",
      "    Validation Set RMSE: 0.9069651467416714\n",
      "    Baseline RMSE (test set): 0.7998978587740608\n",
      "    Test RMSE: 0.8833057250745192\n",
      "Random State: 140\n",
      "    Best Model Parameters: {'svr__gamma': 0.001, 'svr__C': 0.1}\n",
      "    Validation Set RMSE: 0.8811283384617314\n",
      "    Baseline RMSE (test set): 0.8162659053959312\n",
      "    Test RMSE: 0.8925226505351984\n",
      "Random State: 168\n",
      "    Best Model Parameters: {'svr__gamma': 0.001, 'svr__C': 0.1}\n",
      "    Validation Set RMSE: 0.8671058254292938\n",
      "    Baseline RMSE (test set): 0.8316709344515328\n",
      "    Test RMSE: 0.9118569085367307\n",
      "Random State: 196\n",
      "    Best Model Parameters: {'svr__gamma': 0.001, 'svr__C': 0.1}\n",
      "    Validation Set RMSE: 0.8746898082077811\n",
      "    Baseline RMSE (test set): 0.8031924223200353\n",
      "    Test RMSE: 0.8941425153465937\n",
      "Random State: 224\n",
      "    Best Model Parameters: {'svr__gamma': 0.001, 'svr__C': 0.1}\n",
      "    Validation Set RMSE: 0.8961981570291166\n",
      "    Baseline RMSE (test set): 0.8070186179390053\n",
      "    Test RMSE: 0.8917721194140675\n",
      "Random State: 252\n",
      "    Best Model Parameters: {'svr__gamma': 0.001, 'svr__C': 0.1}\n",
      "    Validation Set RMSE: 0.8859304880350786\n",
      "    Baseline RMSE (test set): 0.8137103952663255\n",
      "    Test RMSE: 0.8945826552576406\n"
     ]
    }
   ],
   "source": [
    "svr = SVR()\n",
    "svr_params = {\n",
    "    'svr__gamma': [1e-3, 1e-1, 1e1, 1e3, 1e5],\n",
    "    'svr__C': [1e-1, 1e0, 1e1]\n",
    "}\n",
    "svr_test_scores, svr_best_models, svr_test_Xs, svr_test_ys = MLpipe_Stratified_Continous_RMSE(X, y, preprocessor=preprocessor, ML_algo=svr, param_grid=svr_params)"
   ]
  },
  {
   "cell_type": "code",
   "execution_count": 29,
   "id": "5a0c67fe-5fc9-43c5-85b0-435c3d21a358",
   "metadata": {},
   "outputs": [
    {
     "name": "stdout",
     "output_type": "stream",
     "text": [
      "****Metrics with Support Vector Regression:****\n",
      "Mean RMSE: 0.8930520263976515\n",
      "Std. Deviation of RMSE: 0.008518775192191531\n"
     ]
    }
   ],
   "source": [
    "print('****Metrics with Support Vector Regression:****')\n",
    "mean = np.mean(svr_test_scores)\n",
    "std = np.std(svr_test_scores)\n",
    "models_rmses['SVR']['mean'] = mean\n",
    "models_rmses['SVR']['std dev'] = std\n",
    "print('Mean RMSE:', mean)\n",
    "print('Std. Deviation of RMSE:', std)"
   ]
  },
  {
   "cell_type": "code",
   "execution_count": 30,
   "id": "d454623e-0af4-4987-87d5-ae7fa45130af",
   "metadata": {},
   "outputs": [],
   "source": [
    "file = open('../results/svr.save', 'wb')\n",
    "best_model_index = np.argmin(svr_test_scores)\n",
    "pickle.dump((svr_best_models[best_model_index], svr_test_Xs[best_model_index], svr_test_ys[best_model_index]), file)\n",
    "file.close()"
   ]
  },
  {
   "cell_type": "markdown",
   "id": "f9c852d2-bf0f-43a3-a913-ee5a3e01ba16",
   "metadata": {},
   "source": [
    "#### (6) XGBoost"
   ]
  },
  {
   "cell_type": "code",
   "execution_count": 31,
   "id": "4f9549d4-7872-4bab-af6e-3243c61dd330",
   "metadata": {},
   "outputs": [
    {
     "name": "stdout",
     "output_type": "stream",
     "text": [
      "Random State: 0\n",
      "    Best Model Parameters: {'xgbregressor__reg_alpha': 0.0, 'xgbregressor__max_depth': 1, 'xgbregressor__lambda': 0.0}\n",
      "    Validation Set RMSE: 0.8533812939715202\n",
      "    Baseline RMSE (test set): 0.83731471791581\n",
      "    Test RMSE: 0.8865328861920657\n",
      "Random State: 28\n",
      "    Best Model Parameters: {'xgbregressor__reg_alpha': 0.0, 'xgbregressor__max_depth': 1, 'xgbregressor__lambda': 0.0}\n",
      "    Validation Set RMSE: 0.8667595589540853\n",
      "    Baseline RMSE (test set): 0.8023362967344005\n",
      "    Test RMSE: 0.8613775376377211\n",
      "Random State: 56\n",
      "    Best Model Parameters: {'xgbregressor__reg_alpha': 0.0, 'xgbregressor__max_depth': 1, 'xgbregressor__lambda': 0.0}\n",
      "    Validation Set RMSE: 0.8607116197532533\n",
      "    Baseline RMSE (test set): 0.7985102425069394\n",
      "    Test RMSE: 0.8633416610448467\n",
      "Random State: 84\n",
      "    Best Model Parameters: {'xgbregressor__reg_alpha': 0.0, 'xgbregressor__max_depth': 1, 'xgbregressor__lambda': 0.0}\n",
      "    Validation Set RMSE: 0.859462115711352\n",
      "    Baseline RMSE (test set): 0.7998978587740607\n",
      "    Test RMSE: 0.8605706682094392\n",
      "Random State: 112\n",
      "    Best Model Parameters: {'xgbregressor__reg_alpha': 0.0, 'xgbregressor__max_depth': 1, 'xgbregressor__lambda': 0.0}\n",
      "    Validation Set RMSE: 0.8831351768343628\n",
      "    Baseline RMSE (test set): 0.7998978587740608\n",
      "    Test RMSE: 0.8614829839468654\n",
      "Random State: 140\n",
      "    Best Model Parameters: {'xgbregressor__reg_alpha': 0.0, 'xgbregressor__max_depth': 1, 'xgbregressor__lambda': 0.0}\n",
      "    Validation Set RMSE: 0.8535143010405204\n",
      "    Baseline RMSE (test set): 0.8162659053959312\n",
      "    Test RMSE: 0.8683749000857396\n",
      "Random State: 168\n",
      "    Best Model Parameters: {'xgbregressor__reg_alpha': 0.0, 'xgbregressor__max_depth': 1, 'xgbregressor__lambda': 0.0}\n",
      "    Validation Set RMSE: 0.845992896729708\n",
      "    Baseline RMSE (test set): 0.8316709344515328\n",
      "    Test RMSE: 0.8820883033726501\n",
      "Random State: 196\n",
      "    Best Model Parameters: {'xgbregressor__reg_alpha': 0.0, 'xgbregressor__max_depth': 1, 'xgbregressor__lambda': 0.0}\n",
      "    Validation Set RMSE: 0.8548645564596901\n",
      "    Baseline RMSE (test set): 0.8031924223200353\n",
      "    Test RMSE: 0.8667277868551447\n",
      "Random State: 224\n",
      "    Best Model Parameters: {'xgbregressor__reg_alpha': 0.0, 'xgbregressor__max_depth': 1, 'xgbregressor__lambda': 0.0}\n",
      "    Validation Set RMSE: 0.8698381664167151\n",
      "    Baseline RMSE (test set): 0.8070186179390053\n",
      "    Test RMSE: 0.8674298085556151\n",
      "Random State: 252\n",
      "    Best Model Parameters: {'xgbregressor__reg_alpha': 0.0, 'xgbregressor__max_depth': 1, 'xgbregressor__lambda': 0.0}\n",
      "    Validation Set RMSE: 0.8633664339051828\n",
      "    Baseline RMSE (test set): 0.8137103952663255\n",
      "    Test RMSE: 0.8697259629022206\n"
     ]
    }
   ],
   "source": [
    "xgb = xgboost.XGBRegressor(seed=0, n_estimators=10000, learning_rate=0.03, colsample_bytree=0.9, subsample=0.66)\n",
    "xgb_params = {\n",
    "    'xgbregressor__reg_alpha': [0e0, 1e-2, 1e-1, 1e0, 1e1, 1e2],\n",
    "    'xgbregressor__lambda': [0e0, 1e-2, 1e-1, 1e0, 1e1, 1e2],\n",
    "    'xgbregressor__max_depth': [1, 3, 10, 30, 100]\n",
    "}\n",
    "xgb_test_scores, xgb_best_models, xgb_test_Xs, xgb_test_ys = MLpipe_Stratified_Continous_RMSE(X, y, preprocessor=preprocessor, ML_algo=xgb, param_grid=xgb_params, xgb=True)"
   ]
  },
  {
   "cell_type": "code",
   "execution_count": 32,
   "id": "dc0abc65-0149-4c01-a8dc-44c3b79ad205",
   "metadata": {},
   "outputs": [
    {
     "name": "stdout",
     "output_type": "stream",
     "text": [
      "****Metrics with XGB Regressor:****\n",
      "Mean RMSE: 0.8687652498802307\n",
      "Std. Deviation of RMSE: 0.008392727983029266\n"
     ]
    }
   ],
   "source": [
    "print('****Metrics with XGB Regressor:****')\n",
    "mean = np.mean(xgb_test_scores)\n",
    "std = np.std(xgb_test_scores)\n",
    "models_rmses['XGBoost Regressor']['mean'] = mean\n",
    "models_rmses['XGBoost Regressor']['std dev'] = std\n",
    "print('Mean RMSE:', mean)\n",
    "print('Std. Deviation of RMSE:', std)"
   ]
  },
  {
   "cell_type": "code",
   "execution_count": 33,
   "id": "d3bd4df9-9df3-40ae-a04a-bd08fb203b7b",
   "metadata": {},
   "outputs": [],
   "source": [
    "file = open('../results/xgboost.save', 'wb')\n",
    "best_model_index = np.argmin(xgb_test_scores)\n",
    "pickle.dump((xgb_best_models[best_model_index], xgb_test_Xs[best_model_index], xgb_test_ys[best_model_index]), file)\n",
    "file.close()"
   ]
  },
  {
   "cell_type": "markdown",
   "id": "39acb1f3-c621-4115-b0cb-57bcce747652",
   "metadata": {},
   "source": [
    "### Results"
   ]
  },
  {
   "cell_type": "code",
   "execution_count": 34,
   "id": "d2634de2-f243-4575-bd0a-1ea61f3260ab",
   "metadata": {},
   "outputs": [
    {
     "data": {
      "text/html": [
       "<div>\n",
       "<style scoped>\n",
       "    .dataframe tbody tr th:only-of-type {\n",
       "        vertical-align: middle;\n",
       "    }\n",
       "\n",
       "    .dataframe tbody tr th {\n",
       "        vertical-align: top;\n",
       "    }\n",
       "\n",
       "    .dataframe thead th {\n",
       "        text-align: right;\n",
       "    }\n",
       "</style>\n",
       "<table border=\"1\" class=\"dataframe\">\n",
       "  <thead>\n",
       "    <tr style=\"text-align: right;\">\n",
       "      <th></th>\n",
       "      <th>l1</th>\n",
       "      <th>l2</th>\n",
       "      <th>Elastic Net</th>\n",
       "      <th>Random Forest Regressor</th>\n",
       "      <th>SVR</th>\n",
       "      <th>XGBoost Regressor</th>\n",
       "    </tr>\n",
       "    <tr>\n",
       "      <th>RMSE</th>\n",
       "      <th></th>\n",
       "      <th></th>\n",
       "      <th></th>\n",
       "      <th></th>\n",
       "      <th></th>\n",
       "      <th></th>\n",
       "    </tr>\n",
       "  </thead>\n",
       "  <tbody>\n",
       "    <tr>\n",
       "      <th>mean</th>\n",
       "      <td>0.899618</td>\n",
       "      <td>0.868278</td>\n",
       "      <td>0.89936</td>\n",
       "      <td>0.938036</td>\n",
       "      <td>0.893052</td>\n",
       "      <td>0.868765</td>\n",
       "    </tr>\n",
       "    <tr>\n",
       "      <th>std dev</th>\n",
       "      <td>0.005782</td>\n",
       "      <td>0.006357</td>\n",
       "      <td>0.005541</td>\n",
       "      <td>0.009226</td>\n",
       "      <td>0.008519</td>\n",
       "      <td>0.008393</td>\n",
       "    </tr>\n",
       "  </tbody>\n",
       "</table>\n",
       "</div>"
      ],
      "text/plain": [
       "               l1        l2 Elastic Net Random Forest Regressor       SVR  \\\n",
       "RMSE                                                                        \n",
       "mean     0.899618  0.868278     0.89936                0.938036  0.893052   \n",
       "std dev  0.005782  0.006357    0.005541                0.009226  0.008519   \n",
       "\n",
       "        XGBoost Regressor  \n",
       "RMSE                       \n",
       "mean             0.868765  \n",
       "std dev          0.008393  "
      ]
     },
     "execution_count": 34,
     "metadata": {},
     "output_type": "execute_result"
    }
   ],
   "source": [
    "models_rmses"
   ]
  },
  {
   "cell_type": "markdown",
   "id": "208f5bfe-6046-4cb3-ac78-7b362dd84267",
   "metadata": {},
   "source": [
    "# Best Model - Global Interpretability"
   ]
  },
  {
   "cell_type": "code",
   "execution_count": 35,
   "id": "97d4f7ba-4258-4e2f-918a-9e3b504b2663",
   "metadata": {},
   "outputs": [],
   "source": [
    "l2_file = open('../results/lin_reg_l2.save', 'rb')\n",
    "l2_model, X_test, y_test = pickle.load(l2_file)\n",
    "l2_file.close()"
   ]
  },
  {
   "cell_type": "code",
   "execution_count": 36,
   "id": "69086281-e373-4a40-a534-459e4a24158a",
   "metadata": {},
   "outputs": [],
   "source": [
    "feature_names = X.columns"
   ]
  },
  {
   "cell_type": "code",
   "execution_count": 37,
   "id": "b3a7a1bd-e2af-4a98-80c9-ca817b525903",
   "metadata": {},
   "outputs": [
    {
     "name": "stdout",
     "output_type": "stream",
     "text": [
      "test r2 score = 0.094\n",
      "test baseline r2 = 0.0\n",
      "shuffling hospital_service_area\n"
     ]
    },
    {
     "ename": "IndexError",
     "evalue": "only integers, slices (`:`), ellipsis (`...`), numpy.newaxis (`None`) and integer or boolean arrays are valid indices",
     "output_type": "error",
     "traceback": [
      "\u001b[1;31m---------------------------------------------------------------------------\u001b[0m",
      "\u001b[1;31mIndexError\u001b[0m                                Traceback (most recent call last)",
      "Cell \u001b[1;32mIn[37], line 15\u001b[0m\n\u001b[0;32m     13\u001b[0m \u001b[38;5;28;01mfor\u001b[39;00m j \u001b[38;5;129;01min\u001b[39;00m \u001b[38;5;28mrange\u001b[39m(nr_runs):\n\u001b[0;32m     14\u001b[0m     X_test_shuffled \u001b[38;5;241m=\u001b[39m X_test\u001b[38;5;241m.\u001b[39mcopy()\n\u001b[1;32m---> 15\u001b[0m     X_test_shuffled[feature_names[i]] \u001b[38;5;241m=\u001b[39m np\u001b[38;5;241m.\u001b[39mrandom\u001b[38;5;241m.\u001b[39mpermutation(\u001b[43mX_test\u001b[49m\u001b[43m[\u001b[49m\u001b[43mfeature_names\u001b[49m\u001b[43m[\u001b[49m\u001b[43mi\u001b[49m\u001b[43m]\u001b[49m\u001b[43m]\u001b[49m\u001b[38;5;241m.\u001b[39mvalues)\n\u001b[0;32m     16\u001b[0m     r2_scores\u001b[38;5;241m.\u001b[39mappend(l2_model\u001b[38;5;241m.\u001b[39mscore(X_test_shuffled,y_test))\n\u001b[0;32m     17\u001b[0m \u001b[38;5;28mprint\u001b[39m(\u001b[38;5;124m'\u001b[39m\u001b[38;5;124m shuffled test score:\u001b[39m\u001b[38;5;124m'\u001b[39m,np\u001b[38;5;241m.\u001b[39maround(np\u001b[38;5;241m.\u001b[39mmean(acc_scores), \u001b[38;5;241m3\u001b[39m), \u001b[38;5;124m'\u001b[39m\u001b[38;5;124m+/-\u001b[39m\u001b[38;5;124m'\u001b[39m, np\u001b[38;5;241m.\u001b[39maround(np\u001b[38;5;241m.\u001b[39mstd(acc_scores), \u001b[38;5;241m3\u001b[39m))\n",
      "\u001b[1;31mIndexError\u001b[0m: only integers, slices (`:`), ellipsis (`...`), numpy.newaxis (`None`) and integer or boolean arrays are valid indices"
     ]
    }
   ],
   "source": [
    "np.random.seed(42)\n",
    "nr_runs = 10\n",
    "\n",
    "scores = np.zeros([len(feature_names), nr_runs])\n",
    "test_score = l2_model.score(X_test, y_test)\n",
    "print('test r2 score =', np.around(test_score, 3))\n",
    "\n",
    "print('test baseline r2 =', l2_model.score(X_test, pd.Series([mean_length_of_stay]*len(y_test))))\n",
    "# loop through the features\n",
    "for i in range(len(feature_names)):\n",
    "    print('shuffling', feature_names[i])\n",
    "    r2_scores = []\n",
    "    for j in range(nr_runs):\n",
    "        X_test_shuffled = X_test.copy()\n",
    "        X_test_shuffled[feature_names[i]] = np.random.permutation(X_test[feature_names[i]].values)\n",
    "        r2_scores.append(l2_model.score(X_test_shuffled,y_test))\n",
    "    print(' shuffled test score:',np.around(np.mean(acc_scores), 3), '+/-', np.around(np.std(acc_scores), 3))\n",
    "    scores[i] = acc_scores"
   ]
  },
  {
   "cell_type": "markdown",
   "id": "6c068b98-eb0e-487d-b2c0-4610727fc82f",
   "metadata": {},
   "source": [
    "# Best Model - Local Feature Importance"
   ]
  },
  {
   "cell_type": "code",
   "execution_count": null,
   "id": "077c669c-3330-4439-b9f7-f1f0784ff155",
   "metadata": {},
   "outputs": [],
   "source": []
  }
 ],
 "metadata": {
  "kernelspec": {
   "display_name": "Python 3 (ipykernel)",
   "language": "python",
   "name": "python3"
  },
  "language_info": {
   "codemirror_mode": {
    "name": "ipython",
    "version": 3
   },
   "file_extension": ".py",
   "mimetype": "text/x-python",
   "name": "python",
   "nbconvert_exporter": "python",
   "pygments_lexer": "ipython3",
   "version": "3.11.4"
  }
 },
 "nbformat": 4,
 "nbformat_minor": 5
}
