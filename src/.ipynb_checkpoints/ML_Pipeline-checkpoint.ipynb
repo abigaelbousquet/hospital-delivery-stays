{
 "cells": [
  {
   "cell_type": "markdown",
   "id": "6daffc30-d807-49dd-acf4-cd1a4debb333",
   "metadata": {},
   "source": [
    "# The ML Pipeline for a Model to Predict Length of Hospital Delivery Stay"
   ]
  },
  {
   "cell_type": "code",
   "execution_count": 18,
   "id": "a2e1aae7-2027-452c-96a3-b18f3ad17ab9",
   "metadata": {},
   "outputs": [],
   "source": [
    "import pandas as pd\n",
    "import numpy as np\n",
    "import math\n",
    "from matplotlib import pyplot as plt\n",
    "import matplotlib\n",
    "\n",
    "from sklearn.model_selection import train_test_split\n",
    "from sklearn.model_selection import KFold\n",
    "\n",
    "from sklearn.preprocessing import StandardScaler, OneHotEncoder, MinMaxScaler\n",
    "\n",
    "from sklearn.metrics import mean_squared_error\n",
    "from sklearn.metrics import r2_score\n",
    "\n",
    "from sklearn.pipeline import Pipeline, make_pipeline\n",
    "from sklearn.model_selection import GridSearchCV\n",
    "from sklearn.compose import ColumnTransformer\n",
    "\n",
    "from sklearn.linear_model import Lasso\n",
    "from sklearn.neighbors import KNeighborsRegressor"
   ]
  },
  {
   "cell_type": "markdown",
   "id": "40a734ae-9df2-4e6c-9ce0-e881526fa6c3",
   "metadata": {},
   "source": [
    "### Gather Data"
   ]
  },
  {
   "cell_type": "code",
   "execution_count": 3,
   "id": "5e92028e-4fd9-4bf8-831b-6d87f3fac3db",
   "metadata": {},
   "outputs": [],
   "source": [
    "# specifying data types for the columns to maintain formatting from original data\n",
    "data_types = {\n",
    "    'hospital_service_area': object, \n",
    "    'hospital_county': object,\n",
    "    'operating_certificate_number': object, \n",
    "    'permanent_facility_id': object,\n",
    "    'facility_name': object, \n",
    "    'age_group': object, \n",
    "    'zip_code_3_digits': object, \n",
    "    'gender': object, \n",
    "    'race': object,\n",
    "    'ethnicity': object, \n",
    "    'payment_typology_1': object, \n",
    "    'payment_typology_2': object,\n",
    "    'payment_typology_3': object, \n",
    "    'length_of_stay': int\n",
    "}"
   ]
  },
  {
   "cell_type": "code",
   "execution_count": 4,
   "id": "c1c42813-9ee4-475c-8763-e8a09f079e84",
   "metadata": {},
   "outputs": [],
   "source": [
    "all_visits = pd.read_csv('../data/planned_deliveries.csv', dtype=data_types)\n",
    "all_visits = all_visits.loc[:, all_visits.columns != 'Unnamed: 0']\n",
    "y = all_visits['length_of_stay']\n",
    "X = all_visits.loc[:, all_visits.columns != 'length_of_stay']"
   ]
  },
  {
   "cell_type": "markdown",
   "id": "fbaa60e9-dfac-4d76-a82f-163fd716631a",
   "metadata": {},
   "source": [
    "### Compute Baseline Score"
   ]
  },
  {
   "cell_type": "code",
   "execution_count": 13,
   "id": "08d1984a-32b5-4316-bd14-e6f995e34c93",
   "metadata": {},
   "outputs": [
    {
     "name": "stdout",
     "output_type": "stream",
     "text": [
      "Mean length of stay: 2\n",
      "Median length of stay: 2\n"
     ]
    }
   ],
   "source": [
    "mean_length_of_stay = int(np.around(np.mean(y), 0))\n",
    "median_length_of_stay = int(np.around(np.median(y), 0))\n",
    "print('Mean length of stay:', mean_length_of_stay)\n",
    "print('Median length of stay:', median_length_of_stay)"
   ]
  },
  {
   "cell_type": "code",
   "execution_count": 15,
   "id": "3d66be54-e842-4b5c-8714-2a0ff75a102b",
   "metadata": {},
   "outputs": [],
   "source": [
    "y_pred_mean = pd.Series([2]*len(y))"
   ]
  },
  {
   "cell_type": "markdown",
   "id": "d6dddfc9-1035-4244-aecb-46989a49f70b",
   "metadata": {},
   "source": [
    "#### RMSE [days]"
   ]
  },
  {
   "cell_type": "code",
   "execution_count": 17,
   "id": "94a0438f-fe91-4c1e-8c85-d22bcebcc69e",
   "metadata": {},
   "outputs": [
    {
     "name": "stdout",
     "output_type": "stream",
     "text": [
      "Baseline RMSE [days]: 0.9521077950265668\n"
     ]
    }
   ],
   "source": [
    "baseline_rmse = mean_squared_error(y, y_pred_mean, squared=False)\n",
    "print('Baseline RMSE [days]:', baseline_rmse)"
   ]
  },
  {
   "cell_type": "markdown",
   "id": "f9393894-f453-4d5e-93cf-50608d1554ff",
   "metadata": {},
   "source": [
    "#### R^2 [dimensionless]  \n",
    "**Pretty sure this is unnecessary to do though since by definition R^2 should = 0 for the expected (average) guess of y**"
   ]
  },
  {
   "cell_type": "code",
   "execution_count": 21,
   "id": "2c613128-8911-4df0-aca7-3be86fdd7864",
   "metadata": {},
   "outputs": [
    {
     "name": "stdout",
     "output_type": "stream",
     "text": [
      "Baseline R^2 [dimensionless]: -0.11501180761222085\n"
     ]
    }
   ],
   "source": [
    "baseline_r2 = r2_score(y, y_pred_mean)\n",
    "print('Baseline R^2 [dimensionless]:', baseline_r2)"
   ]
  },
  {
   "cell_type": "markdown",
   "id": "c67d0b05-ca87-4fec-a375-924ea95b86ba",
   "metadata": {},
   "source": [
    "### Split, Train, and Cross Validate"
   ]
  },
  {
   "cell_type": "code",
   "execution_count": 22,
   "id": "7f3d998e-7882-4c07-90bb-368cd0df11df",
   "metadata": {},
   "outputs": [],
   "source": [
    "def stratified_continuous_split(X:pd.DataFrame, y:pd.Series, train_size:float, val_size:float, test_size:float, random_state:int):\n",
    "    '''\n",
    "    Performs a stratified split of inputted data (with respect to y) into a training set, validation set, and test set to specified percentages \n",
    "    of the data using verstack's scsplit and performs basic error checking.\n",
    "\n",
    "    Parameters:\n",
    "    - X: a 2D pandas DataFrame, the feature matrix\n",
    "    - y: a 1D pandas Series, the target variable matrix matching X\n",
    "    - train_size: a float between 0 and 1, the percentage of X which should be training data\n",
    "    - val_size: a float between 0 and 1, the percentage of X which should be reserved for validation\n",
    "    - test_size: a float between 0 and 1, the percentage of X which should be reserved for final testing\n",
    "    - random_state: an int, the random state to split with\n",
    "    Note: The sum of train_size + val_size + test_size must be 1.0 (100% of X).\n",
    "\n",
    "    Returns:\n",
    "    - (X_train) a 2D pandas DataFrame, the feature matrix of training data\n",
    "    - (y_train) a 1D pandas Series, the target variable matrix for training data\n",
    "    - (X_val) a 2D pandas DataFrame, the feature matrix of validation data\n",
    "    - (y_val) a 1D pandas Series, the target variable matrix for validation data\n",
    "    - (X_test) a 2D pandas DataFrame, the feature matrix of testing data\n",
    "    - (y_test) a 1D pandas Series, the target variable matrix for testing data\n",
    "\n",
    "    Raises:\n",
    "    - ValueError for invalid input\n",
    "    '''\n",
    "    from verstack.stratified_continuous_split import scsplit\n",
    "    \n",
    "    if ((train_size + val_size + test_size) != 1):\n",
    "        raise ValueError('Your train_size + val_size + test_size must add up to 1 (100%)!')\n",
    "    if (not isinstance(random_state, int)):\n",
    "        raise ValueError('Your random_state must be an int!')\n",
    "\n",
    "    X_train, X_other, y_train, y_other = scsplit(X, y, stratify=y, test_size=(1-train_size), random_state=random_state)\n",
    "    \n",
    "    X_len = X.shape[0]\n",
    "    test_percent_of_other = (test_size * X_len)/(X_len - (train_size * X_len))\n",
    "    X_other = X_other.reset_index(drop=True)\n",
    "    y_other = y_other.reset_index(drop=True)\n",
    "    \n",
    "    X_val, X_test, y_val, y_test = scsplit(X_other, y_other, stratify=y_other, test_size=test_percent_of_other, random_state=random_state)\n",
    "\n",
    "    # basic error checking to check that split returned train, val, and test of expected sizes\n",
    "    train_count_low = (int)(train_size * X_len)\n",
    "    train_count_high = ceil(train_size * X_len)\n",
    "    val_count_low = (int)(val_size * X_len)\n",
    "    val_count_high = ceil(val_size * X_len)\n",
    "    test_count_low = (int)(test_size * X_len)\n",
    "    test_count_high = ceil(test_size * X_len)\n",
    "    \n",
    "    Xtrain_fin = X_train.shape[0]\n",
    "    ytrain_fin = y_train.shape[0]\n",
    "    Xval_fin = X_val.shape[0]\n",
    "    yval_fin = y_val.shape[0]\n",
    "    Xtest_fin = X_test.shape[0]\n",
    "    ytest_fin = y_test.shape[0]\n",
    "    \n",
    "    if not (((Xtrain_fin == train_count_low) or (Xtrain_fin == train_count_high)) and ((ytrain_fin == train_count_low) or (ytrain_fin == train_count_high))):\n",
    "        raise ValueError(f'Training set size should be approx. {train_size * X_len}, instead is: {X_train.shape[0]}')\n",
    "    if not (((Xval_fin == val_count_low) or (Xval_fin == val_count_high)) and ((yval_fin == val_count_low) or (yval_fin == val_count_high))):\n",
    "        raise ValueError(f'Validation set size should be approx. {val_size * X_len}, instead is: {X_val.shape[0]}')\n",
    "    if not (((Xtest_fin == test_count_low) or (Xtest_fin == test_count_high)) and ((ytest_fin == test_count_low) or (ytest_fin == test_count_high))):\n",
    "        raise ValueError(f'Test set size should be approx. {test_size * X_len}, instead is: {X_test.shape[0]}')\n",
    "\n",
    "    return X_train, y_train, X_val, y_val, X_test, y_test"
   ]
  },
  {
   "cell_type": "code",
   "execution_count": 23,
   "id": "e8d93aaf-cf12-4a41-b8cc-32c6f2a71ced",
   "metadata": {},
   "outputs": [],
   "source": [
    "# def stratified_continuous_split(X:pd.DataFrame, y:pd.Series, train_size:float, val_size:float, test_size:float, random_state:int):\n",
    "#     '''\n",
    "#     Performs a stratified split of inputted data (with respect to y) into 2 sets of specified percentages \n",
    "#     of the data using verstack's scsplit and performs basic error checking.\n",
    "\n",
    "#     Parameters:\n",
    "#     - X: a 2D pandas DataFrame, the feature matrix\n",
    "#     - y: a 1D pandas Series, the target variable matrix matching X\n",
    "#     - train_size: a float between 0 and 1, the percentage of X which should be training data\n",
    "#     - test_size: a float between 0 and 1, the percentage of X which should be reserved for testing\n",
    "#     - random_state: an int, the random state to split with\n",
    "#     Note: The sum of train_size + test_size must be 1.0 (100% of X).\n",
    "\n",
    "#     Returns:\n",
    "#     - (X_train) a 2D pandas DataFrame, the feature matrix of training data\n",
    "#     - (y_train) a 1D pandas Series, the target variable matrix for training data\n",
    "#     - (X_test) a 2D pandas DataFrame, the feature matrix of testing data\n",
    "#     - (y_test) a 1D pandas Series, the target variable matrix for testing data\n",
    "\n",
    "#     Raises:\n",
    "#     - ValueError for invalid input\n",
    "#     '''\n",
    "#     from verstack.stratified_continuous_split import scsplit\n",
    "    \n",
    "#     if ((train_size + val_size + test_size) != 1):\n",
    "#         raise ValueError('Your train_size + test_size must add up to 1 (100%)!')\n",
    "#     if (not isinstance(random_state, int)):\n",
    "#         raise ValueError('Your random_state must be an int!')\n",
    "\n",
    "#     X_train, X_other, y_train, y_other = scsplit(X, y, stratify=y, test_size=test_size, random_state=random_state)\n",
    "\n",
    "#     # basic error checking to check that split returned train and test of expected sizes\n",
    "#     train_count_low = (int)(train_size * X_len)\n",
    "#     train_count_high = ceil(train_size * X_len)\n",
    "#     test_count_low = (int)(test_size * X_len)\n",
    "#     test_count_high = ceil(test_size * X_len)\n",
    "    \n",
    "#     Xtrain_fin = X_train.shape[0]\n",
    "#     ytrain_fin = y_train.shape[0]\n",
    "#     Xtest_fin = X_test.shape[0]\n",
    "#     ytest_fin = y_test.shape[0]\n",
    "    \n",
    "#     if not (((Xtrain_fin == train_count_low) or (Xtrain_fin == train_count_high)) and ((ytrain_fin == train_count_low) or (ytrain_fin == train_count_high))):\n",
    "#         raise ValueError(f'Training set size should be approx. {train_size * X_len}, instead is: {X_train.shape[0]}')\n",
    "#     if not (((Xtest_fin == test_count_low) or (Xtest_fin == test_count_high)) and ((ytest_fin == test_count_low) or (ytest_fin == test_count_high))):\n",
    "#         raise ValueError(f'Test set size should be approx. {test_size * X_len}, instead is: {X_test.shape[0]}')\n",
    "\n",
    "#     return X_train, y_train, X_test, y_test"
   ]
  },
  {
   "cell_type": "code",
   "execution_count": null,
   "id": "29dedeb3-d32f-4da6-be1b-88973215c6fd",
   "metadata": {},
   "outputs": [],
   "source": [
    "def MLpipe_Stratified_Continous_RMSE(X, y, preprocessor, ML_algo, param_grid):\n",
    "    '''\n",
    "    This function splits the data to train, validation, and test (60/20/20).\n",
    "    The RMSE is minimized in cross-validation.\n",
    "    \n",
    "    This function:\n",
    "    1. Loops through 10 different random states\n",
    "    2. Splits the data 60/20/20.\n",
    "    3. Fits a model using GridSearchCV with the predefined Preprocessor \n",
    "    4. Calculates the model's error on the test set \n",
    "    5. Returns a list of 10 test scores and 10 best models\n",
    "    '''\n",
    "    \n",
    "    # lists to be returned\n",
    "    test_scores = []\n",
    "    best_models = []\n",
    "\n",
    "    nr_states = 10\n",
    "    for i in range(nr_states):\n",
    "        rs = 28 * i\n",
    "        print('Random State:', rs) # TEMPORARY\n",
    "\n",
    "        # split\n",
    "        X_other, X_test, y_other, y_test = train_test_split(X, y, train_size=0.8, random_state=rs)\n",
    "        kf = KFold(n_splits=4, shuffle=True, random_state=rs)\n",
    "    \n",
    "        # preprocess, train, and perform cross-validation\n",
    "        pipe = make_pipeline(preprocessor, ML_algo)\n",
    "        grid = GridSearchCV(pipe, param_grid=param_grid, scoring='neg_mean_squared_error', \n",
    "                            cv=kf, return_train_score=True, n_jobs=-1, verbose=True)\n",
    "        grid.fit(X_other, y_other)\n",
    "        results = pd.DataFrame(grid.cv_results_)\n",
    "        #print(results) # TEMPORARY\n",
    "\n",
    "        # save results\n",
    "        print('    Best Model Parameters:', grid.best_params_) # TEMPORARY\n",
    "        print('    Validation RMSE Score:', grid.best_score_) # TEMPORARY\n",
    "        best_models.append(grid)\n",
    "        y_test_pred = grid.predict(X_test)\n",
    "        test_score = mean_squared_error(y_test, y_test_pred, squared=False)\n",
    "        test_scores.append(test_score)\n",
    "        print('    Test RMSE Score:', test_score) # TEMPORARY\n",
    "        \n",
    "    return test_scores, best_models"
   ]
  }
 ],
 "metadata": {
  "kernelspec": {
   "display_name": "Python 3 (ipykernel)",
   "language": "python",
   "name": "python3"
  },
  "language_info": {
   "codemirror_mode": {
    "name": "ipython",
    "version": 3
   },
   "file_extension": ".py",
   "mimetype": "text/x-python",
   "name": "python",
   "nbconvert_exporter": "python",
   "pygments_lexer": "ipython3",
   "version": "3.11.4"
  }
 },
 "nbformat": 4,
 "nbformat_minor": 5
}
