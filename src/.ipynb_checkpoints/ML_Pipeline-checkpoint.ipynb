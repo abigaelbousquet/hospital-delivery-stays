{
 "cells": [
  {
   "cell_type": "markdown",
   "id": "6daffc30-d807-49dd-acf4-cd1a4debb333",
   "metadata": {},
   "source": [
    "# The ML Pipeline for a Model to Predict Length of Hospital Delivery Stay"
   ]
  },
  {
   "cell_type": "code",
   "execution_count": 1,
   "id": "a2e1aae7-2027-452c-96a3-b18f3ad17ab9",
   "metadata": {},
   "outputs": [],
   "source": [
    "import pandas as pd\n",
    "import numpy as np\n",
    "import math\n",
    "from matplotlib import pyplot as plt\n",
    "import matplotlib\n",
    "from math import ceil\n",
    "import pickle\n",
    "\n",
    "from sklearn.model_selection import train_test_split\n",
    "from sklearn.model_selection import KFold\n",
    "from sklearn.model_selection import PredefinedSplit\n",
    "\n",
    "from sklearn.preprocessing import StandardScaler, OneHotEncoder, OrdinalEncoder\n",
    "from sklearn.impute import SimpleImputer\n",
    "\n",
    "from sklearn.metrics import mean_squared_error\n",
    "from sklearn.metrics import r2_score\n",
    "\n",
    "from sklearn.pipeline import Pipeline, make_pipeline\n",
    "from sklearn.model_selection import GridSearchCV\n",
    "from sklearn.compose import ColumnTransformer\n",
    "from sklearn.model_selection import ParameterGrid\n",
    "\n",
    "from sklearn.linear_model import Lasso, Ridge, ElasticNet\n",
    "from sklearn.neighbors import KNeighborsRegressor\n",
    "from sklearn.ensemble import RandomForestRegressor"
   ]
  },
  {
   "cell_type": "markdown",
   "id": "40a734ae-9df2-4e6c-9ce0-e881526fa6c3",
   "metadata": {},
   "source": [
    "# Gather Data"
   ]
  },
  {
   "cell_type": "code",
   "execution_count": 2,
   "id": "5e92028e-4fd9-4bf8-831b-6d87f3fac3db",
   "metadata": {},
   "outputs": [],
   "source": [
    "# specifying data types for the columns to maintain formatting from original data\n",
    "data_types = {\n",
    "    'hospital_service_area': object, \n",
    "    'hospital_county': object,\n",
    "    'operating_certificate_number': object, \n",
    "    'permanent_facility_id': object,\n",
    "    'facility_name': object, \n",
    "    'age_group': object, \n",
    "    'zip_code_3_digits': object, \n",
    "    'gender': object, \n",
    "    'race': object,\n",
    "    'ethnicity': object, \n",
    "    'payment_typology_1': object, \n",
    "    'payment_typology_2': object,\n",
    "    'payment_typology_3': object, \n",
    "    'length_of_stay': int\n",
    "}"
   ]
  },
  {
   "cell_type": "code",
   "execution_count": 3,
   "id": "c1c42813-9ee4-475c-8763-e8a09f079e84",
   "metadata": {},
   "outputs": [],
   "source": [
    "all_visits = pd.read_csv('../data/planned_deliveries.csv', dtype=data_types)\n",
    "all_visits = all_visits.loc[:, all_visits.columns != 'Unnamed: 0']\n",
    "y = all_visits['length_of_stay']\n",
    "X = all_visits.loc[:, all_visits.columns != 'length_of_stay']"
   ]
  },
  {
   "cell_type": "markdown",
   "id": "fbaa60e9-dfac-4d76-a82f-163fd716631a",
   "metadata": {},
   "source": [
    "# Compute Baseline Score"
   ]
  },
  {
   "cell_type": "code",
   "execution_count": 4,
   "id": "08d1984a-32b5-4316-bd14-e6f995e34c93",
   "metadata": {},
   "outputs": [
    {
     "name": "stdout",
     "output_type": "stream",
     "text": [
      "Mean length of stay: 2\n",
      "Median length of stay: 2\n"
     ]
    }
   ],
   "source": [
    "mean_length_of_stay = int(np.around(np.mean(y), 0))\n",
    "median_length_of_stay = int(np.around(np.median(y), 0))\n",
    "print('Mean length of stay:', mean_length_of_stay)\n",
    "print('Median length of stay:', median_length_of_stay)"
   ]
  },
  {
   "cell_type": "code",
   "execution_count": 5,
   "id": "3d66be54-e842-4b5c-8714-2a0ff75a102b",
   "metadata": {},
   "outputs": [],
   "source": [
    "y_pred_mean = pd.Series([2]*len(y))"
   ]
  },
  {
   "cell_type": "markdown",
   "id": "d6dddfc9-1035-4244-aecb-46989a49f70b",
   "metadata": {},
   "source": [
    "#### RMSE [days]"
   ]
  },
  {
   "cell_type": "code",
   "execution_count": 7,
   "id": "94a0438f-fe91-4c1e-8c85-d22bcebcc69e",
   "metadata": {},
   "outputs": [
    {
     "name": "stdout",
     "output_type": "stream",
     "text": [
      "Baseline RMSE [days]: 0.9521077950265668\n"
     ]
    }
   ],
   "source": [
    "baseline_rmse = mean_squared_error(y, y_pred_mean, squared=False)\n",
    "print('Baseline RMSE [days]:', baseline_rmse)"
   ]
  },
  {
   "cell_type": "markdown",
   "id": "f9393894-f453-4d5e-93cf-50608d1554ff",
   "metadata": {},
   "source": [
    "#### R^2 [dimensionless]  \n",
    "**Pretty sure this is unnecessary to do though since by definition R^2 should = 0 for the expected (average) guess of y**"
   ]
  },
  {
   "cell_type": "code",
   "execution_count": 8,
   "id": "2c613128-8911-4df0-aca7-3be86fdd7864",
   "metadata": {},
   "outputs": [
    {
     "name": "stdout",
     "output_type": "stream",
     "text": [
      "Baseline R^2 [dimensionless]: -0.11501180761222085\n"
     ]
    }
   ],
   "source": [
    "baseline_r2 = r2_score(y, y_pred_mean)\n",
    "print('Baseline R^2 [dimensionless]:', baseline_r2)"
   ]
  },
  {
   "cell_type": "markdown",
   "id": "c67d0b05-ca87-4fec-a375-924ea95b86ba",
   "metadata": {},
   "source": [
    "# Split, Train, and Cross Validate - RMSE Evaluation Metric"
   ]
  },
  {
   "cell_type": "markdown",
   "id": "37b21561-78db-485c-b842-1c44797890aa",
   "metadata": {},
   "source": [
    "### Set up functions for automated pipeline"
   ]
  },
  {
   "cell_type": "code",
   "execution_count": 9,
   "id": "7f3d998e-7882-4c07-90bb-368cd0df11df",
   "metadata": {},
   "outputs": [],
   "source": [
    "def stratified_continuous_split(X:pd.DataFrame, y:pd.Series, train_size:float, val_size:float, test_size:float, random_state:int):\n",
    "    '''\n",
    "    Performs a stratified split of inputted data (with respect to y) into a training set, validation set, and test set to specified percentages \n",
    "    of the data using verstack's scsplit and performs basic error checking.\n",
    "\n",
    "    Parameters:\n",
    "    - X: a 2D pandas DataFrame, the feature matrix\n",
    "    - y: a 1D pandas Series, the target variable matrix matching X\n",
    "    - train_size: a float between 0 and 1, the percentage of X which should be training data\n",
    "    - val_size: a float between 0 and 1, the percentage of X which should be reserved for validation\n",
    "    - test_size: a float between 0 and 1, the percentage of X which should be reserved for final testing\n",
    "    - random_state: an int, the random state to split with\n",
    "    Note: The sum of train_size + val_size + test_size must be 1.0 (100% of X).\n",
    "\n",
    "    Returns:\n",
    "    - (X_train) a 2D pandas DataFrame, the feature matrix of training data\n",
    "    - (y_train) a 1D pandas Series, the target variable matrix for training data\n",
    "    - (X_val) a 2D pandas DataFrame, the feature matrix of validation data\n",
    "    - (y_val) a 1D pandas Series, the target variable matrix for validation data\n",
    "    - (X_test) a 2D pandas DataFrame, the feature matrix of testing data\n",
    "    - (y_test) a 1D pandas Series, the target variable matrix for testing data\n",
    "\n",
    "    Raises:\n",
    "    - ValueError for invalid input\n",
    "    '''\n",
    "    from verstack.stratified_continuous_split import scsplit\n",
    "    \n",
    "    if ((train_size + val_size + test_size) != 1):\n",
    "        raise ValueError('Your train_size + val_size + test_size must add up to 1 (100%)!')\n",
    "    if (not isinstance(random_state, int)):\n",
    "        raise ValueError('Your random_state must be an int!')\n",
    "\n",
    "    X_train, X_other, y_train, y_other = scsplit(X, y, stratify=y, test_size=(1-train_size), random_state=random_state)\n",
    "    \n",
    "    X_len = X.shape[0]\n",
    "    test_percent_of_other = (test_size * X_len)/(X_len - (train_size * X_len))\n",
    "    X_other = X_other.reset_index(drop=True)\n",
    "    y_other = y_other.reset_index(drop=True)\n",
    "    \n",
    "    X_val, X_test, y_val, y_test = scsplit(X_other, y_other, stratify=y_other, test_size=test_percent_of_other, random_state=random_state)\n",
    "\n",
    "    # basic error checking to check that split returned train, val, and test of expected sizes\n",
    "    train_count_low = (int)(train_size * X_len)\n",
    "    train_count_high = ceil(train_size * X_len)\n",
    "    val_count_low = (int)(val_size * X_len)\n",
    "    val_count_high = ceil(val_size * X_len)\n",
    "    test_count_low = (int)(test_size * X_len)\n",
    "    test_count_high = ceil(test_size * X_len)\n",
    "    \n",
    "    Xtrain_fin = X_train.shape[0]\n",
    "    ytrain_fin = y_train.shape[0]\n",
    "    Xval_fin = X_val.shape[0]\n",
    "    yval_fin = y_val.shape[0]\n",
    "    Xtest_fin = X_test.shape[0]\n",
    "    ytest_fin = y_test.shape[0]\n",
    "    \n",
    "    if not (((Xtrain_fin == train_count_low) or (Xtrain_fin == train_count_high)) and ((ytrain_fin == train_count_low) or (ytrain_fin == train_count_high))):\n",
    "        raise ValueError(f'Training set size should be approx. {train_size * X_len}, instead is: {X_train.shape[0]}')\n",
    "    if not (((Xval_fin == val_count_low) or (Xval_fin == val_count_high)) and ((yval_fin == val_count_low) or (yval_fin == val_count_high))):\n",
    "        raise ValueError(f'Validation set size should be approx. {val_size * X_len}, instead is: {X_val.shape[0]}')\n",
    "    if not (((Xtest_fin == test_count_low) or (Xtest_fin == test_count_high)) and ((ytest_fin == test_count_low) or (ytest_fin == test_count_high))):\n",
    "        raise ValueError(f'Test set size should be approx. {test_size * X_len}, instead is: {X_test.shape[0]}')\n",
    "\n",
    "    return X_train, y_train, X_val, y_val, X_test, y_test"
   ]
  },
  {
   "cell_type": "code",
   "execution_count": 22,
   "id": "a5bf7c9d-c403-458f-94c1-e17d51fe36f1",
   "metadata": {},
   "outputs": [],
   "source": [
    "def MLpipe_Stratified_Continous_RMSE(X, y, preprocessor, ML_algo, param_grid, xgb=False):\n",
    "    '''\n",
    "    This function splits the data to train, validation, and test (60/20/20).\n",
    "    The RMSE is minimized in cross-validation.\n",
    "    \n",
    "    This function:\n",
    "    1. Loops through 10 different random states\n",
    "    2. Splits the data 60/20/20.\n",
    "    3. Fits a model with the predefined Preprocessor, trains the model with each hyperparameter combination in param_grid\n",
    "    4. Calculates the model's error on the test set on the model wuth the best hyperparameter combinations in param_grid\n",
    "    5. Returns a list of 10 test scores and 10 best models\n",
    "    '''\n",
    "    \n",
    "    # lists to be returned\n",
    "    test_scores = []\n",
    "    best_models = []\n",
    "    test_Xs = []\n",
    "    test_ys = []\n",
    "\n",
    "    nr_states = 10\n",
    "    for i in range(nr_states):\n",
    "        rs = 28 * i\n",
    "        print('Random State:', rs)\n",
    "\n",
    "        # split\n",
    "        X_train, y_train, X_val, y_val, X_test, y_test = stratified_continuous_split(X, y, train_size=0.6, val_size=0.2, test_size=0.2, random_state=rs)\n",
    "\n",
    "        # preprocess\n",
    "        X_train_prep = preprocessor.fit_transform(X_train)\n",
    "        X_val_prep = preprocessor.transform(X_val)\n",
    "        X_test_prep = preprocessor.transform(X_test)\n",
    "\n",
    "        # final preprocess with Standard Scaler so that I can use the coefficients of linear models as global importance metrics\n",
    "        final_scaler = StandardScaler()\n",
    "        X_train_prep = final_scaler.fit_transform(X_train_prep)\n",
    "        X_val_prep = final_scaler.transform(X_val_prep)\n",
    "        X_test_prep = final_scaler.transform(X_test_prep)\n",
    "\n",
    "        test_Xs.append(X_test_prep)\n",
    "        test_ys.append(y_test)\n",
    "\n",
    "        # train and perform cross-validation        \n",
    "        models = []\n",
    "        val_scores = []\n",
    "        for p in range(len(ParameterGrid(param_grid))):\n",
    "            params = ParameterGrid(param_grid)[p]\n",
    "            # print(' ',params) # TEMPORARY\n",
    "\n",
    "            if (xgb):\n",
    "                clf = ML_algo.fit(X_train_prep, y_train, early_stopping_rounds=50, eval_set=[(X_val_prep, y_val)], verbose=False)\n",
    "            else:\n",
    "                clf = ML_algo.fit(X_train_prep, y_train)\n",
    "            models.append(clf)\n",
    "            y_val_pred = clf.predict(X_val_prep)\n",
    "            val_scores.append(mean_squared_error(y_val, y_val_pred, squared=False))\n",
    "            # print(' Validation RMSE:', val_scores[-1]) # TEMPORARY\n",
    "\n",
    "        # save results\n",
    "        print('    Best Model Parameters:', ParameterGrid(param_grid)[np.argmin(val_scores)])\n",
    "        print('    Validation Set RMSE:', np.min(val_scores))\n",
    "        best_model_this_rs = models[np.argmin(val_scores)]\n",
    "        best_models.append(best_model_this_rs)\n",
    "        y_test_pred = best_model_this_rs.predict(X_test_prep)\n",
    "        test_score = mean_squared_error(y_test, y_test_pred, squared=False)\n",
    "        test_scores.append(test_score)\n",
    "        print('    Baseline RMSE (test set):', mean_squared_error(y_test, pd.Series([2]*len(y_test)), squared=False))\n",
    "        print('    Test Set RMSE:', test_score)\n",
    "        \n",
    "    return test_scores, best_models, test_Xs, test_ys"
   ]
  },
  {
   "cell_type": "markdown",
   "id": "fc9cba21-6c66-4a06-9e71-4f460ead95cf",
   "metadata": {},
   "source": [
    "### Run and Cross Validate Several Models - RMSE"
   ]
  },
  {
   "cell_type": "code",
   "execution_count": 11,
   "id": "5e9ec7bf-5599-4c98-b336-6a6e5d3df7c5",
   "metadata": {},
   "outputs": [],
   "source": [
    "random_state = 42\n",
    "\n",
    "# categorizing the columns in my dataset by how they should be encoded\n",
    "onehot_ftrs = ['hospital_service_area', 'hospital_county', 'operating_certificate_number', 'permanent_facility_id', \\\n",
    "               'facility_name', 'zip_code_3_digits', 'gender', 'race', 'ethnicity', 'payment_typology_1', \\\n",
    "               'payment_typology_2', 'payment_typology_3']\n",
    "ordinal_ftrs = ['age_group']\n",
    "ordinal_cats = [['0 to 17', '18 to 29', '30 to 49', '50 to 69', '70 or Older']]\n",
    "\n",
    "# replace missing values in categorical columns with 'not reported'\n",
    "categorical_transformer = Pipeline(steps=[\n",
    "    ('imputer', SimpleImputer(strategy='constant',fill_value='not reported')),\n",
    "    ('onehot', OneHotEncoder(sparse=False,handle_unknown='ignore'))])\n",
    "\n",
    "# my data has no missing values in its ordinal column, so only encoding is necessary\n",
    "ordinal_transformer = Pipeline(steps=[\n",
    "    ('ordinal', OrdinalEncoder(categories = ordinal_cats))])\n",
    "\n",
    "preprocessor = ColumnTransformer(\n",
    "    transformers=[\n",
    "        ('onehot', categorical_transformer, onehot_ftrs),\n",
    "        ('ordinal', ordinal_transformer, ordinal_ftrs)])"
   ]
  },
  {
   "cell_type": "code",
   "execution_count": 12,
   "id": "168e775a-dd9d-4708-997c-794da1abde1c",
   "metadata": {},
   "outputs": [],
   "source": [
    "# keeping track of scores\n",
    "models_rmses = pd.DataFrame(columns=['RMSE', 'l1', 'l2', 'elastic net', 'random forest', 'SVR', 'XGBoost'])\n",
    "models_rmses['RMSE'] = pd.Series(['mean', 'std dev'])\n",
    "models_rmses = models_rmses.set_index('RMSE')"
   ]
  },
  {
   "cell_type": "markdown",
   "id": "304e22d1-2f60-4f49-a854-ba624fd0df8f",
   "metadata": {},
   "source": [
    "#### (1) Linear Regression with l1 Regularization"
   ]
  },
  {
   "cell_type": "code",
   "execution_count": 35,
   "id": "864e2e5b-53b4-4da3-983c-ab1e6304735c",
   "metadata": {},
   "outputs": [
    {
     "name": "stdout",
     "output_type": "stream",
     "text": [
      "Random State: 0\n",
      "    Best Model Parameters: {'lasso__alpha': 0.1353352832366127}\n",
      "    Validation Set RMSE: 0.8865510222531405\n",
      "    Baseline RMSE (test set): 0.9537287408033268\n",
      "    Test Set RMSE: 0.9034748141373455\n",
      "Random State: 28\n",
      "    Best Model Parameters: {'lasso__alpha': 0.1353352832366127}\n",
      "    Validation Set RMSE: 0.8943722755526549\n",
      "    Baseline RMSE (test set): 0.9463120596425579\n",
      "    Test Set RMSE: 0.8957330448081982\n",
      "Random State: 56\n",
      "    Best Model Parameters: {'lasso__alpha': 0.1353352832366127}\n",
      "    Validation Set RMSE: 0.8943724758747483\n",
      "    Baseline RMSE (test set): 0.9442024217513739\n",
      "    Test Set RMSE: 0.8935953196069969\n",
      "Random State: 84\n",
      "    Best Model Parameters: {'lasso__alpha': 0.1353352832366127}\n",
      "    Validation Set RMSE: 0.8935953196069968\n",
      "    Baseline RMSE (test set): 0.9447654524643497\n",
      "    Test Set RMSE: 0.8943724758747483\n",
      "Random State: 112\n",
      "    Best Model Parameters: {'lasso__alpha': 0.1353352832366127}\n",
      "    Validation Set RMSE: 0.9160331114616256\n",
      "    Baseline RMSE (test set): 0.9447654524643497\n",
      "    Test Set RMSE: 0.8943712580906668\n",
      "Random State: 140\n",
      "    Best Model Parameters: {'lasso__alpha': 0.1353352832366127}\n",
      "    Validation Set RMSE: 0.8843912093971624\n",
      "    Baseline RMSE (test set): 0.9537287408033268\n",
      "    Test Set RMSE: 0.9034749081003206\n",
      "Random State: 168\n",
      "    Best Model Parameters: {'lasso__alpha': 0.1353352832366127}\n",
      "    Validation Set RMSE: 0.8787284379916777\n",
      "    Baseline RMSE (test set): 0.9621941600849981\n",
      "    Test Set RMSE: 0.9119600361292256\n",
      "Random State: 196\n",
      "    Best Model Parameters: {'lasso__alpha': 0.1353352832366127}\n",
      "    Validation Set RMSE: 0.8917505589732748\n",
      "    Baseline RMSE (test set): 0.9465929894571606\n",
      "    Test Set RMSE: 0.8962118395762857\n",
      "Random State: 224\n",
      "    Best Model Parameters: {'lasso__alpha': 0.1353352832366127}\n",
      "    Validation Set RMSE: 0.898104386234781\n",
      "    Baseline RMSE (test set): 0.9486973114082411\n",
      "    Test Set RMSE: 0.89834304451432\n",
      "Random State: 252\n",
      "    Best Model Parameters: {'lasso__alpha': 0.1353352832366127}\n",
      "    Validation Set RMSE: 0.8943719012613855\n",
      "    Baseline RMSE (test set): 0.9524733751890553\n",
      "    Test Set RMSE: 0.9020590980836592\n"
     ]
    }
   ],
   "source": [
    "lin_reg_l1 = Lasso(random_state=random_state)\n",
    "l1_params = {\n",
    "    'lasso__alpha': np.linspace(math.exp(-2), math.exp(2), 21)\n",
    "}\n",
    "l1_test_scores, l1_best_models, l1_test_Xs, l1_test_ys = MLpipe_Stratified_Continous_RMSE(X, y, preprocessor=preprocessor, ML_algo=lin_reg_l1, param_grid=l1_params)"
   ]
  },
  {
   "cell_type": "code",
   "execution_count": 36,
   "id": "50447805-e62f-40fb-bfaf-e40c73665753",
   "metadata": {},
   "outputs": [
    {
     "name": "stdout",
     "output_type": "stream",
     "text": [
      "****Metrics with l1 Linear Regression:****\n",
      "Mean RMSE: 0.8993595838921766\n",
      "Std. Deviation of RMSE: 0.0055407996038346575\n"
     ]
    }
   ],
   "source": [
    "print('****Metrics with l1 Linear Regression:****')\n",
    "mean = np.mean(l1_test_scores)\n",
    "std = np.std(l1_test_scores)\n",
    "models_rmses['l1']['mean'] = mean\n",
    "models_rmses['l1']['std dev'] = std\n",
    "print('Mean RMSE:', mean)\n",
    "print('Std. Deviation of RMSE:', std)"
   ]
  },
  {
   "cell_type": "code",
   "execution_count": 37,
   "id": "cb3c9583-7fa5-497a-8a4a-19132e688767",
   "metadata": {},
   "outputs": [],
   "source": [
    "file = open('../results/lin_reg_l1.save', 'wb')\n",
    "best_model_index = np.argmin(l1_test_scores)\n",
    "pickle.dump((l1_best_models[best_model_index], l1_test_Xs[best_model_index], l1_test_ys[best_model_index]), file)\n",
    "file.close()"
   ]
  },
  {
   "cell_type": "markdown",
   "id": "75f8fabf-e4a6-44c3-979e-ea1d68f9b6e9",
   "metadata": {},
   "source": [
    "#### (2) Linear Regression with l2 Regularization"
   ]
  },
  {
   "cell_type": "code",
   "execution_count": 38,
   "id": "fff4e8ac-7b84-43cf-96ea-df51afb251ee",
   "metadata": {},
   "outputs": [
    {
     "name": "stdout",
     "output_type": "stream",
     "text": [
      "Random State: 0\n",
      "    Best Model Parameters: {'ridge__alpha': 0.1353352832366127}\n",
      "    Validation Set RMSE: 0.8573809137552494\n",
      "    Baseline RMSE (test set): 0.9537287408033268\n",
      "    Test Set RMSE: 0.8751860016356476\n",
      "Random State: 28\n",
      "    Best Model Parameters: {'ridge__alpha': 0.1353352832366127}\n",
      "    Validation Set RMSE: 0.8663862212169129\n",
      "    Baseline RMSE (test set): 0.9463120596425579\n",
      "    Test Set RMSE: 0.8598233472524134\n",
      "Random State: 56\n",
      "    Best Model Parameters: {'ridge__alpha': 0.1353352832366127}\n",
      "    Validation Set RMSE: 0.8625293918481787\n",
      "    Baseline RMSE (test set): 0.9442024217513739\n",
      "    Test Set RMSE: 0.8671131350438647\n",
      "Random State: 84\n",
      "    Best Model Parameters: {'ridge__alpha': 0.1353352832366127}\n",
      "    Validation Set RMSE: 0.8577693591578244\n",
      "    Baseline RMSE (test set): 0.9447654524643497\n",
      "    Test Set RMSE: 0.8607684974498052\n",
      "Random State: 112\n",
      "    Best Model Parameters: {'ridge__alpha': 0.1353352832366127}\n",
      "    Validation Set RMSE: 0.8886716828086008\n",
      "    Baseline RMSE (test set): 0.9447654524643497\n",
      "    Test Set RMSE: 0.8624106657422751\n",
      "Random State: 140\n",
      "    Best Model Parameters: {'ridge__alpha': 0.1353352832366127}\n",
      "    Validation Set RMSE: 0.8533049714676584\n",
      "    Baseline RMSE (test set): 0.9537287408033268\n",
      "    Test Set RMSE: 0.8673946151281635\n",
      "Random State: 168\n",
      "    Best Model Parameters: {'ridge__alpha': 0.1353352832366127}\n",
      "    Validation Set RMSE: 0.8487641965234884\n",
      "    Baseline RMSE (test set): 0.9621941600849981\n",
      "    Test Set RMSE: 0.8809082925218789\n",
      "Random State: 196\n",
      "    Best Model Parameters: {'ridge__alpha': 0.1353352832366127}\n",
      "    Validation Set RMSE: 0.8556061778363058\n",
      "    Baseline RMSE (test set): 0.9465929894571606\n",
      "    Test Set RMSE: 0.8665886783082775\n",
      "Random State: 224\n",
      "    Best Model Parameters: {'ridge__alpha': 0.1353352832366127}\n",
      "    Validation Set RMSE: 0.8736663296418915\n",
      "    Baseline RMSE (test set): 0.9486973114082411\n",
      "    Test Set RMSE: 0.8689026638668765\n",
      "Random State: 252\n",
      "    Best Model Parameters: {'ridge__alpha': 0.1353352832366127}\n",
      "    Validation Set RMSE: 0.8650212854748497\n",
      "    Baseline RMSE (test set): 0.9524733751890553\n",
      "    Test Set RMSE: 0.8736862925739738\n"
     ]
    }
   ],
   "source": [
    "lin_reg_l2 = Ridge(random_state=random_state)\n",
    "l2_params = {\n",
    "    'ridge__alpha': np.linspace(math.exp(-2), math.exp(2), 21)\n",
    "}\n",
    "l2_test_scores, l2_best_models, l2_test_Xs, l2_test_ys = MLpipe_Stratified_Continous_RMSE(X, y, preprocessor=preprocessor, ML_algo=lin_reg_l2, param_grid=l2_params)"
   ]
  },
  {
   "cell_type": "code",
   "execution_count": 39,
   "id": "92be3415-d539-4c13-ad27-0325f23ec2ea",
   "metadata": {},
   "outputs": [
    {
     "name": "stdout",
     "output_type": "stream",
     "text": [
      "****Metrics with l2 Linear Regression:****\n",
      "Mean RMSE: 0.8682782189523175\n",
      "Std. Deviation of RMSE: 0.006357476611995466\n"
     ]
    }
   ],
   "source": [
    "print('****Metrics with l2 Linear Regression:****')\n",
    "mean = np.mean(l2_test_scores)\n",
    "std = np.std(l2_test_scores)\n",
    "models_rmses['l2']['mean'] = mean\n",
    "models_rmses['l2']['std dev'] = std\n",
    "print('Mean RMSE:', mean)\n",
    "print('Std. Deviation of RMSE:', std)"
   ]
  },
  {
   "cell_type": "code",
   "execution_count": 40,
   "id": "a803fe0a-33a1-4120-86ab-9d3205434472",
   "metadata": {},
   "outputs": [],
   "source": [
    "file = open('../results/lin_reg_l2.save', 'wb')\n",
    "best_model_index = np.argmin(l2_test_scores)\n",
    "pickle.dump((l2_best_models[best_model_index], l2_test_Xs[best_model_index], l2_test_ys[best_model_index]), file)\n",
    "file.close()"
   ]
  },
  {
   "cell_type": "markdown",
   "id": "3fd739b3-4790-40fe-8eee-5a2024e7a6f0",
   "metadata": {},
   "source": [
    "#### (3) Linear Regression with Elastic Net Regularization"
   ]
  },
  {
   "cell_type": "code",
   "execution_count": 43,
   "id": "dd21266b-48b1-46f8-9591-7790247eeb8b",
   "metadata": {},
   "outputs": [
    {
     "name": "stdout",
     "output_type": "stream",
     "text": [
      "Random State: 0\n",
      "    Best Model Parameters: {'elasticnet__l1_ratio': 0.0, 'elasticnet__alpha': 0.1353352832366127}\n",
      "    Validation Set RMSE: 0.9071697063741746\n",
      "    Baseline RMSE (test set): 0.9313015197057405\n",
      "    Test Set RMSE: 0.8806008429832736\n",
      "Random State: 28\n",
      "    Best Model Parameters: {'elasticnet__l1_ratio': 0.0, 'elasticnet__alpha': 0.1353352832366127}\n",
      "    Validation Set RMSE: 0.8943722755526549\n",
      "    Baseline RMSE (test set): 0.9463120596425579\n",
      "    Test Set RMSE: 0.8957330448081982\n",
      "Random State: 56\n",
      "    Best Model Parameters: {'elasticnet__l1_ratio': 0.0, 'elasticnet__alpha': 0.1353352832366127}\n",
      "    Validation Set RMSE: 0.8943724758747483\n",
      "    Baseline RMSE (test set): 0.9442024217513739\n",
      "    Test Set RMSE: 0.8935953196069969\n",
      "Random State: 84\n",
      "    Best Model Parameters: {'elasticnet__l1_ratio': 0.0, 'elasticnet__alpha': 0.1353352832366127}\n",
      "    Validation Set RMSE: 0.8935953196069968\n",
      "    Baseline RMSE (test set): 0.9447654524643497\n",
      "    Test Set RMSE: 0.8943724758747483\n",
      "Random State: 112\n",
      "    Best Model Parameters: {'elasticnet__l1_ratio': 0.0, 'elasticnet__alpha': 0.1353352832366127}\n",
      "    Validation Set RMSE: 0.9160331114616256\n",
      "    Baseline RMSE (test set): 0.9447654524643497\n",
      "    Test Set RMSE: 0.8943712580906668\n",
      "Random State: 140\n",
      "    Best Model Parameters: {'elasticnet__l1_ratio': 0.0, 'elasticnet__alpha': 0.1353352832366127}\n",
      "    Validation Set RMSE: 0.8843912093971624\n",
      "    Baseline RMSE (test set): 0.9537287408033268\n",
      "    Test Set RMSE: 0.9034749081003206\n",
      "Random State: 168\n",
      "    Best Model Parameters: {'elasticnet__l1_ratio': 0.0, 'elasticnet__alpha': 0.1353352832366127}\n",
      "    Validation Set RMSE: 0.8787284379916777\n",
      "    Baseline RMSE (test set): 0.9621941600849981\n",
      "    Test Set RMSE: 0.9119600361292256\n",
      "Random State: 196\n",
      "    Best Model Parameters: {'elasticnet__l1_ratio': 0.0, 'elasticnet__alpha': 0.1353352832366127}\n",
      "    Validation Set RMSE: 0.8917505589732748\n",
      "    Baseline RMSE (test set): 0.9465929894571606\n",
      "    Test Set RMSE: 0.8962118395762857\n",
      "Random State: 224\n",
      "    Best Model Parameters: {'elasticnet__l1_ratio': 0.0, 'elasticnet__alpha': 0.1353352832366127}\n",
      "    Validation Set RMSE: 0.898104386234781\n",
      "    Baseline RMSE (test set): 0.9486973114082411\n",
      "    Test Set RMSE: 0.89834304451432\n",
      "Random State: 252\n",
      "    Best Model Parameters: {'elasticnet__l1_ratio': 0.0, 'elasticnet__alpha': 0.1353352832366127}\n",
      "    Validation Set RMSE: 0.8943719012613855\n",
      "    Baseline RMSE (test set): 0.9524733751890553\n",
      "    Test Set RMSE: 0.9020590980836592\n"
     ]
    }
   ],
   "source": [
    "lin_reg_elastic = ElasticNet(random_state=random_state)\n",
    "elastic_params = {\n",
    "    'elasticnet__alpha': np.linspace(math.exp(-2), math.exp(2), 21),\n",
    "    'elasticnet__l1_ratio': np.linspace(0, 1, 21)\n",
    "}\n",
    "elastic_test_scores, elastic_best_models, elastic_test_Xs, elastic_test_ys = MLpipe_Stratified_Continous_RMSE(X, y, preprocessor=preprocessor, ML_algo=lin_reg_elastic, param_grid=elastic_params)"
   ]
  },
  {
   "cell_type": "code",
   "execution_count": 44,
   "id": "f7787243-775a-488f-86c6-bbc58ac4b9c0",
   "metadata": {},
   "outputs": [
    {
     "name": "stdout",
     "output_type": "stream",
     "text": [
      "****Metrics with Elastic Net Linear Regression:****\n",
      "Mean RMSE: 0.8970721867767695\n",
      "Std. Deviation of RMSE: 0.00767878888483994\n"
     ]
    }
   ],
   "source": [
    "print('****Metrics with Elastic Net Linear Regression:****')\n",
    "mean = np.mean(elastic_test_scores)\n",
    "std = np.std(elastic_test_scores)\n",
    "models_rmses['elastic net']['mean'] = mean\n",
    "models_rmses['elastic net']['std dev'] = std\n",
    "print('Mean RMSE:', mean)\n",
    "print('Std. Deviation of RMSE:', std)"
   ]
  },
  {
   "cell_type": "code",
   "execution_count": 45,
   "id": "b0db7bea-784d-46dd-a7f9-db609dc198ad",
   "metadata": {},
   "outputs": [],
   "source": [
    "file = open('../results/lin_reg_elastic_net.save', 'wb')\n",
    "best_model_index = np.argmin(elastic_test_scores)\n",
    "pickle.dump((elastic_best_models[best_model_index], elastic_test_Xs[best_model_index], elastic_test_ys[best_model_index]), file)\n",
    "file.close()"
   ]
  },
  {
   "cell_type": "markdown",
   "id": "07d53026-73fa-46a4-9d8e-468cde8cf185",
   "metadata": {},
   "source": [
    "#### (4) Random Forest Regressor"
   ]
  },
  {
   "cell_type": "code",
   "execution_count": 46,
   "id": "7004c165-78a3-41f3-9ec0-e111e7377331",
   "metadata": {},
   "outputs": [
    {
     "name": "stdout",
     "output_type": "stream",
     "text": [
      "Random State: 0\n",
      "    Best Model Parameters: {'randomforestregressor__max_features': 1, 'randomforestregressor__max_depth': 1}\n",
      "    Validation Set RMSE: 0.9440919009659395\n",
      "    Baseline RMSE (test set): 0.9537287408033268\n",
      "    Test Set RMSE: 0.9428757523449156\n",
      "Random State: 28\n",
      "    Best Model Parameters: {'randomforestregressor__max_features': 10, 'randomforestregressor__max_depth': 3}\n",
      "    Validation Set RMSE: 0.9275653694755235\n",
      "    Baseline RMSE (test set): 0.9463120596425579\n",
      "    Test Set RMSE: 0.9398844585632351\n",
      "Random State: 56\n",
      "    Best Model Parameters: {'randomforestregressor__max_features': 1, 'randomforestregressor__max_depth': 1}\n",
      "    Validation Set RMSE: 0.9274641501241876\n",
      "    Baseline RMSE (test set): 0.9442024217513739\n",
      "    Test Set RMSE: 0.933730980542309\n",
      "Random State: 84\n",
      "    Best Model Parameters: {'randomforestregressor__max_features': 30, 'randomforestregressor__max_depth': 1}\n",
      "    Validation Set RMSE: 0.9305690245471583\n",
      "    Baseline RMSE (test set): 0.9447654524643497\n",
      "    Test Set RMSE: 0.9258648778233731\n",
      "Random State: 112\n",
      "    Best Model Parameters: {'randomforestregressor__max_features': 1, 'randomforestregressor__max_depth': 1}\n",
      "    Validation Set RMSE: 0.9458011602605403\n",
      "    Baseline RMSE (test set): 0.9447654524643497\n",
      "    Test Set RMSE: 0.9233461995324894\n",
      "Random State: 140\n",
      "    Best Model Parameters: {'randomforestregressor__max_features': 1, 'randomforestregressor__max_depth': 1}\n",
      "    Validation Set RMSE: 0.921540342145408\n",
      "    Baseline RMSE (test set): 0.9537287408033268\n",
      "    Test Set RMSE: 0.9361402528050299\n",
      "Random State: 168\n",
      "    Best Model Parameters: {'randomforestregressor__max_features': 1, 'randomforestregressor__max_depth': 1}\n",
      "    Validation Set RMSE: 0.9046399415516987\n",
      "    Baseline RMSE (test set): 0.9621941600849981\n",
      "    Test Set RMSE: 0.9529995711110384\n",
      "Random State: 196\n",
      "    Best Model Parameters: {'randomforestregressor__max_features': 1, 'randomforestregressor__max_depth': 1}\n",
      "    Validation Set RMSE: 0.9324600253629874\n",
      "    Baseline RMSE (test set): 0.9465929894571606\n",
      "    Test Set RMSE: 0.9320876971203933\n",
      "Random State: 224\n",
      "    Best Model Parameters: {'randomforestregressor__max_features': 1, 'randomforestregressor__max_depth': 1}\n",
      "    Validation Set RMSE: 0.9470474221199645\n",
      "    Baseline RMSE (test set): 0.9486973114082411\n",
      "    Test Set RMSE: 0.9434760386687103\n",
      "Random State: 252\n",
      "    Best Model Parameters: {'randomforestregressor__max_features': 1, 'randomforestregressor__max_depth': 1}\n",
      "    Validation Set RMSE: 0.9214593997704723\n",
      "    Baseline RMSE (test set): 0.9524733751890553\n",
      "    Test Set RMSE: 0.9492047050507989\n"
     ]
    }
   ],
   "source": [
    "random_forest_reg = RandomForestRegressor(n_jobs=-1, n_estimators=100, random_state=random_state)\n",
    "rf_params = {\n",
    "    'randomforestregressor__max_features': [1, 3, 10, 30],\n",
    "    'randomforestregressor__max_depth': [1, 2, 3, 4, 5, 6, 7, 8, 9, 10]\n",
    "}\n",
    "rf_test_scores, rf_best_models, rf_test_Xs, rf_test_ys = MLpipe_Stratified_Continous_RMSE(X, y, preprocessor=preprocessor, ML_algo=random_forest_reg, param_grid=rf_params)"
   ]
  },
  {
   "cell_type": "code",
   "execution_count": 47,
   "id": "a7148fab-8608-4f3a-ab16-0440fe8d71c6",
   "metadata": {},
   "outputs": [
    {
     "name": "stdout",
     "output_type": "stream",
     "text": [
      "****Metrics with Random Forest Regression:****\n",
      "Mean RMSE: 0.9379610533562293\n",
      "Std. Deviation of RMSE: 0.00909099606957027\n"
     ]
    }
   ],
   "source": [
    "print('****Metrics with Random Forest Regression:****')\n",
    "mean = np.mean(rf_test_scores)\n",
    "std = np.std(rf_test_scores)\n",
    "models_rmses['random forest']['mean'] = mean\n",
    "models_rmses['random forest']['std dev'] = std\n",
    "print('Mean RMSE:', mean)\n",
    "print('Std. Deviation of RMSE:', std)"
   ]
  },
  {
   "cell_type": "code",
   "execution_count": 48,
   "id": "8b0b05e1-4fa9-4220-9fd1-3b86ed6e55af",
   "metadata": {},
   "outputs": [],
   "source": [
    "file = open('../results/random_forest_regressor.save', 'wb')\n",
    "best_model_index = np.argmin(rf_test_scores)\n",
    "pickle.dump((rf_best_models[best_model_index], rf_test_Xs[best_model_index], rf_test_ys[best_model_index]), file)\n",
    "file.close()"
   ]
  },
  {
   "cell_type": "markdown",
   "id": "7df3d17f-cd30-4f06-8812-4dd4a19157af",
   "metadata": {},
   "source": [
    "#### (5) Support Vector Regression (SVR)"
   ]
  },
  {
   "cell_type": "code",
   "execution_count": 12,
   "id": "b4b34045-ebb1-4511-8e27-1d55f308a0c6",
   "metadata": {},
   "outputs": [],
   "source": [
    "from sklearn.svm import SVR"
   ]
  },
  {
   "cell_type": "code",
   "execution_count": 13,
   "id": "35d0a4f7-48ba-4c5b-8d13-9a9b133e7a41",
   "metadata": {},
   "outputs": [
    {
     "name": "stdout",
     "output_type": "stream",
     "text": [
      "Random State: 0\n",
      "    Best Model Parameters: {'svr__gamma': 0.001, 'svr__C': 0.1}\n",
      "    Validation Set RMSE: 0.8737161388388178\n",
      "    Baseline RMSE (test set): 0.9566515208850047\n",
      "    Test Set RMSE: 0.8990157701174678\n",
      "Random State: 28\n",
      "    Best Model Parameters: {'svr__gamma': 0.001, 'svr__C': 0.1}\n",
      "    Validation Set RMSE: 0.8945910250978423\n",
      "    Baseline RMSE (test set): 0.9463120596425579\n",
      "    Test Set RMSE: 0.8849388528798543\n",
      "Random State: 56\n",
      "    Best Model Parameters: {'svr__gamma': 0.001, 'svr__C': 0.1}\n",
      "    Validation Set RMSE: 0.8825403205768152\n",
      "    Baseline RMSE (test set): 0.9442024217513739\n",
      "    Test Set RMSE: 0.8889780059159369\n",
      "Random State: 84\n",
      "    Best Model Parameters: {'svr__gamma': 0.001, 'svr__C': 0.1}\n",
      "    Validation Set RMSE: 0.8772711088587583\n",
      "    Baseline RMSE (test set): 0.9447654524643497\n",
      "    Test Set RMSE: 0.8845531390704325\n",
      "Random State: 112\n",
      "    Best Model Parameters: {'svr__gamma': 0.001, 'svr__C': 0.1}\n",
      "    Validation Set RMSE: 0.9069651444907146\n",
      "    Baseline RMSE (test set): 0.9447654524643497\n",
      "    Test Set RMSE: 0.8833057250745193\n",
      "Random State: 140\n",
      "    Best Model Parameters: {'svr__gamma': 0.001, 'svr__C': 0.1}\n",
      "    Validation Set RMSE: 0.8811221374719376\n",
      "    Baseline RMSE (test set): 0.9537287408033268\n",
      "    Test Set RMSE: 0.8925184383115191\n",
      "Random State: 168\n",
      "    Best Model Parameters: {'svr__gamma': 0.001, 'svr__C': 0.1}\n",
      "    Validation Set RMSE: 0.8671057824494266\n",
      "    Baseline RMSE (test set): 0.9621941600849981\n",
      "    Test Set RMSE: 0.9118569881704213\n",
      "Random State: 196\n",
      "    Best Model Parameters: {'svr__gamma': 0.001, 'svr__C': 0.1}\n",
      "    Validation Set RMSE: 0.8746898082077803\n",
      "    Baseline RMSE (test set): 0.9465929894571606\n",
      "    Test Set RMSE: 0.894142521841926\n",
      "Random State: 224\n",
      "    Best Model Parameters: {'svr__gamma': 0.001, 'svr__C': 0.1}\n",
      "    Validation Set RMSE: 0.8961980458756611\n",
      "    Baseline RMSE (test set): 0.9486973114082411\n",
      "    Test Set RMSE: 0.8917721819450473\n",
      "Random State: 252\n",
      "    Best Model Parameters: {'svr__gamma': 0.001, 'svr__C': 0.1}\n",
      "    Validation Set RMSE: 0.8859304880350789\n",
      "    Baseline RMSE (test set): 0.9524733751890553\n",
      "    Test Set RMSE: 0.8945826358305001\n"
     ]
    }
   ],
   "source": [
    "svr = SVR()\n",
    "svr_params = {\n",
    "    'svr__gamma': [1e-3, 1e-1, 1e1, 1e3, 1e5],\n",
    "    'svr__C': [1e-1, 1e0, 1e1]\n",
    "}\n",
    "svr_test_scores, svr_best_models, svr_test_Xs, svr_test_ys = MLpipe_Stratified_Continous_RMSE(X, y, preprocessor=preprocessor, ML_algo=svr, param_grid=svr_params)"
   ]
  },
  {
   "cell_type": "code",
   "execution_count": 14,
   "id": "5a0c67fe-5fc9-43c5-85b0-435c3d21a358",
   "metadata": {},
   "outputs": [
    {
     "name": "stdout",
     "output_type": "stream",
     "text": [
      "****Metrics with Support Vector Regression:****\n",
      "Mean RMSE: 0.8925664259157626\n",
      "Std. Deviation of RMSE: 0.008012066615216527\n"
     ]
    }
   ],
   "source": [
    "print('****Metrics with Support Vector Regression:****')\n",
    "mean = np.mean(svr_test_scores)\n",
    "std = np.std(svr_test_scores)\n",
    "models_rmses['SVR']['mean'] = mean\n",
    "models_rmses['SVR']['std dev'] = std\n",
    "print('Mean RMSE:', mean)\n",
    "print('Std. Deviation of RMSE:', std)"
   ]
  },
  {
   "cell_type": "code",
   "execution_count": 15,
   "id": "d454623e-0af4-4987-87d5-ae7fa45130af",
   "metadata": {},
   "outputs": [],
   "source": [
    "file = open('../results/svr.save', 'wb')\n",
    "best_model_index = np.argmin(svr_test_scores)\n",
    "pickle.dump((svr_best_models[best_model_index], svr_test_Xs[best_model_index], svr_test_ys[best_model_index]), file)\n",
    "file.close()"
   ]
  },
  {
   "cell_type": "markdown",
   "id": "f9c852d2-bf0f-43a3-a913-ee5a3e01ba16",
   "metadata": {},
   "source": [
    "#### (6) XGBoost"
   ]
  },
  {
   "cell_type": "code",
   "execution_count": 14,
   "id": "b204388f-7bd0-43cb-8d94-969289e78dbd",
   "metadata": {},
   "outputs": [],
   "source": [
    "import xgboost"
   ]
  },
  {
   "cell_type": "code",
   "execution_count": 24,
   "id": "4f9549d4-7872-4bab-af6e-3243c61dd330",
   "metadata": {},
   "outputs": [
    {
     "name": "stdout",
     "output_type": "stream",
     "text": [
      "Random State: 0\n",
      "    Best Model Parameters: {'xgbregressor__reg_alpha': 0.0, 'xgbregressor__max_depth': 1, 'xgbregressor__lambda': 0.0}\n",
      "    Validation Set RMSE: 0.8892998064417896\n",
      "    Baseline RMSE (test set): 0.9447654524643497\n",
      "    Test Set RMSE: 0.8646508617113036\n",
      "Random State: 28\n"
     ]
    },
    {
     "ename": "KeyboardInterrupt",
     "evalue": "",
     "output_type": "error",
     "traceback": [
      "\u001b[1;31m---------------------------------------------------------------------------\u001b[0m",
      "\u001b[1;31mKeyboardInterrupt\u001b[0m                         Traceback (most recent call last)",
      "Cell \u001b[1;32mIn[24], line 7\u001b[0m\n\u001b[0;32m      1\u001b[0m xgb \u001b[38;5;241m=\u001b[39m xgboost\u001b[38;5;241m.\u001b[39mXGBRegressor(seed\u001b[38;5;241m=\u001b[39m\u001b[38;5;241m0\u001b[39m, n_estimators\u001b[38;5;241m=\u001b[39m\u001b[38;5;241m10000\u001b[39m, learning_rate\u001b[38;5;241m=\u001b[39m\u001b[38;5;241m0.03\u001b[39m, colsample_bytree\u001b[38;5;241m=\u001b[39m\u001b[38;5;241m0.9\u001b[39m, subsample\u001b[38;5;241m=\u001b[39m\u001b[38;5;241m0.66\u001b[39m)\n\u001b[0;32m      2\u001b[0m xgb_params \u001b[38;5;241m=\u001b[39m {\n\u001b[0;32m      3\u001b[0m     \u001b[38;5;124m'\u001b[39m\u001b[38;5;124mxgbregressor__reg_alpha\u001b[39m\u001b[38;5;124m'\u001b[39m: [\u001b[38;5;241m0e0\u001b[39m, \u001b[38;5;241m1e-2\u001b[39m, \u001b[38;5;241m1e-1\u001b[39m, \u001b[38;5;241m1e0\u001b[39m, \u001b[38;5;241m1e1\u001b[39m, \u001b[38;5;241m1e2\u001b[39m],\n\u001b[0;32m      4\u001b[0m     \u001b[38;5;124m'\u001b[39m\u001b[38;5;124mxgbregressor__lambda\u001b[39m\u001b[38;5;124m'\u001b[39m: [\u001b[38;5;241m0e0\u001b[39m, \u001b[38;5;241m1e-2\u001b[39m, \u001b[38;5;241m1e-1\u001b[39m, \u001b[38;5;241m1e0\u001b[39m, \u001b[38;5;241m1e1\u001b[39m, \u001b[38;5;241m1e2\u001b[39m],\n\u001b[0;32m      5\u001b[0m     \u001b[38;5;124m'\u001b[39m\u001b[38;5;124mxgbregressor__max_depth\u001b[39m\u001b[38;5;124m'\u001b[39m: [\u001b[38;5;241m1\u001b[39m, \u001b[38;5;241m3\u001b[39m, \u001b[38;5;241m10\u001b[39m, \u001b[38;5;241m30\u001b[39m, \u001b[38;5;241m100\u001b[39m]\n\u001b[0;32m      6\u001b[0m }\n\u001b[1;32m----> 7\u001b[0m xgb_test_scores, xgb_best_models, xgb_test_Xs, xgb_test_ys \u001b[38;5;241m=\u001b[39m \u001b[43mMLpipe_Stratified_Continous_RMSE\u001b[49m\u001b[43m(\u001b[49m\u001b[43mX\u001b[49m\u001b[43m,\u001b[49m\u001b[43m \u001b[49m\u001b[43my\u001b[49m\u001b[43m,\u001b[49m\u001b[43m \u001b[49m\u001b[43mpreprocessor\u001b[49m\u001b[38;5;241;43m=\u001b[39;49m\u001b[43mpreprocessor\u001b[49m\u001b[43m,\u001b[49m\u001b[43m \u001b[49m\u001b[43mML_algo\u001b[49m\u001b[38;5;241;43m=\u001b[39;49m\u001b[43mxgb\u001b[49m\u001b[43m,\u001b[49m\u001b[43m \u001b[49m\u001b[43mparam_grid\u001b[49m\u001b[38;5;241;43m=\u001b[39;49m\u001b[43mxgb_params\u001b[49m\u001b[43m,\u001b[49m\u001b[43m \u001b[49m\u001b[43mxgb\u001b[49m\u001b[38;5;241;43m=\u001b[39;49m\u001b[38;5;28;43;01mTrue\u001b[39;49;00m\u001b[43m)\u001b[49m\n",
      "Cell \u001b[1;32mIn[22], line 50\u001b[0m, in \u001b[0;36mMLpipe_Stratified_Continous_RMSE\u001b[1;34m(X, y, preprocessor, ML_algo, param_grid, xgb)\u001b[0m\n\u001b[0;32m     47\u001b[0m \u001b[38;5;66;03m# print(' ',params) # TEMPORARY\u001b[39;00m\n\u001b[0;32m     49\u001b[0m \u001b[38;5;28;01mif\u001b[39;00m (xgb):\n\u001b[1;32m---> 50\u001b[0m     clf \u001b[38;5;241m=\u001b[39m \u001b[43mML_algo\u001b[49m\u001b[38;5;241;43m.\u001b[39;49m\u001b[43mfit\u001b[49m\u001b[43m(\u001b[49m\u001b[43mX_train_prep\u001b[49m\u001b[43m,\u001b[49m\u001b[43m \u001b[49m\u001b[43my_train\u001b[49m\u001b[43m,\u001b[49m\u001b[43m \u001b[49m\u001b[43mearly_stopping_rounds\u001b[49m\u001b[38;5;241;43m=\u001b[39;49m\u001b[38;5;241;43m50\u001b[39;49m\u001b[43m,\u001b[49m\u001b[43m \u001b[49m\u001b[43meval_set\u001b[49m\u001b[38;5;241;43m=\u001b[39;49m\u001b[43m[\u001b[49m\u001b[43m(\u001b[49m\u001b[43mX_val_prep\u001b[49m\u001b[43m,\u001b[49m\u001b[43m \u001b[49m\u001b[43my_val\u001b[49m\u001b[43m)\u001b[49m\u001b[43m]\u001b[49m\u001b[43m,\u001b[49m\u001b[43m \u001b[49m\u001b[43mverbose\u001b[49m\u001b[38;5;241;43m=\u001b[39;49m\u001b[38;5;28;43;01mFalse\u001b[39;49;00m\u001b[43m)\u001b[49m\n\u001b[0;32m     51\u001b[0m \u001b[38;5;28;01melse\u001b[39;00m:\n\u001b[0;32m     52\u001b[0m     clf \u001b[38;5;241m=\u001b[39m ML_algo\u001b[38;5;241m.\u001b[39mfit(X_train_prep, y_train)\n",
      "File \u001b[1;32m~\\miniconda3\\envs\\data1030project\\Lib\\site-packages\\xgboost\\core.py:620\u001b[0m, in \u001b[0;36mrequire_keyword_args.<locals>.throw_if.<locals>.inner_f\u001b[1;34m(*args, **kwargs)\u001b[0m\n\u001b[0;32m    618\u001b[0m \u001b[38;5;28;01mfor\u001b[39;00m k, arg \u001b[38;5;129;01min\u001b[39;00m \u001b[38;5;28mzip\u001b[39m(sig\u001b[38;5;241m.\u001b[39mparameters, args):\n\u001b[0;32m    619\u001b[0m     kwargs[k] \u001b[38;5;241m=\u001b[39m arg\n\u001b[1;32m--> 620\u001b[0m \u001b[38;5;28;01mreturn\u001b[39;00m \u001b[43mfunc\u001b[49m\u001b[43m(\u001b[49m\u001b[38;5;241;43m*\u001b[39;49m\u001b[38;5;241;43m*\u001b[39;49m\u001b[43mkwargs\u001b[49m\u001b[43m)\u001b[49m\n",
      "File \u001b[1;32m~\\miniconda3\\envs\\data1030project\\Lib\\site-packages\\xgboost\\sklearn.py:1025\u001b[0m, in \u001b[0;36mXGBModel.fit\u001b[1;34m(self, X, y, sample_weight, base_margin, eval_set, eval_metric, early_stopping_rounds, verbose, xgb_model, sample_weight_eval_set, base_margin_eval_set, feature_weights, callbacks)\u001b[0m\n\u001b[0;32m   1014\u001b[0m     obj \u001b[38;5;241m=\u001b[39m \u001b[38;5;28;01mNone\u001b[39;00m\n\u001b[0;32m   1016\u001b[0m (\n\u001b[0;32m   1017\u001b[0m     model,\n\u001b[0;32m   1018\u001b[0m     metric,\n\u001b[1;32m   (...)\u001b[0m\n\u001b[0;32m   1023\u001b[0m     xgb_model, eval_metric, params, early_stopping_rounds, callbacks\n\u001b[0;32m   1024\u001b[0m )\n\u001b[1;32m-> 1025\u001b[0m \u001b[38;5;28mself\u001b[39m\u001b[38;5;241m.\u001b[39m_Booster \u001b[38;5;241m=\u001b[39m \u001b[43mtrain\u001b[49m\u001b[43m(\u001b[49m\n\u001b[0;32m   1026\u001b[0m \u001b[43m    \u001b[49m\u001b[43mparams\u001b[49m\u001b[43m,\u001b[49m\n\u001b[0;32m   1027\u001b[0m \u001b[43m    \u001b[49m\u001b[43mtrain_dmatrix\u001b[49m\u001b[43m,\u001b[49m\n\u001b[0;32m   1028\u001b[0m \u001b[43m    \u001b[49m\u001b[38;5;28;43mself\u001b[39;49m\u001b[38;5;241;43m.\u001b[39;49m\u001b[43mget_num_boosting_rounds\u001b[49m\u001b[43m(\u001b[49m\u001b[43m)\u001b[49m\u001b[43m,\u001b[49m\n\u001b[0;32m   1029\u001b[0m \u001b[43m    \u001b[49m\u001b[43mevals\u001b[49m\u001b[38;5;241;43m=\u001b[39;49m\u001b[43mevals\u001b[49m\u001b[43m,\u001b[49m\n\u001b[0;32m   1030\u001b[0m \u001b[43m    \u001b[49m\u001b[43mearly_stopping_rounds\u001b[49m\u001b[38;5;241;43m=\u001b[39;49m\u001b[43mearly_stopping_rounds\u001b[49m\u001b[43m,\u001b[49m\n\u001b[0;32m   1031\u001b[0m \u001b[43m    \u001b[49m\u001b[43mevals_result\u001b[49m\u001b[38;5;241;43m=\u001b[39;49m\u001b[43mevals_result\u001b[49m\u001b[43m,\u001b[49m\n\u001b[0;32m   1032\u001b[0m \u001b[43m    \u001b[49m\u001b[43mobj\u001b[49m\u001b[38;5;241;43m=\u001b[39;49m\u001b[43mobj\u001b[49m\u001b[43m,\u001b[49m\n\u001b[0;32m   1033\u001b[0m \u001b[43m    \u001b[49m\u001b[43mcustom_metric\u001b[49m\u001b[38;5;241;43m=\u001b[39;49m\u001b[43mmetric\u001b[49m\u001b[43m,\u001b[49m\n\u001b[0;32m   1034\u001b[0m \u001b[43m    \u001b[49m\u001b[43mverbose_eval\u001b[49m\u001b[38;5;241;43m=\u001b[39;49m\u001b[43mverbose\u001b[49m\u001b[43m,\u001b[49m\n\u001b[0;32m   1035\u001b[0m \u001b[43m    \u001b[49m\u001b[43mxgb_model\u001b[49m\u001b[38;5;241;43m=\u001b[39;49m\u001b[43mmodel\u001b[49m\u001b[43m,\u001b[49m\n\u001b[0;32m   1036\u001b[0m \u001b[43m    \u001b[49m\u001b[43mcallbacks\u001b[49m\u001b[38;5;241;43m=\u001b[39;49m\u001b[43mcallbacks\u001b[49m\u001b[43m,\u001b[49m\n\u001b[0;32m   1037\u001b[0m \u001b[43m\u001b[49m\u001b[43m)\u001b[49m\n\u001b[0;32m   1039\u001b[0m \u001b[38;5;28mself\u001b[39m\u001b[38;5;241m.\u001b[39m_set_evaluation_result(evals_result)\n\u001b[0;32m   1040\u001b[0m \u001b[38;5;28;01mreturn\u001b[39;00m \u001b[38;5;28mself\u001b[39m\n",
      "File \u001b[1;32m~\\miniconda3\\envs\\data1030project\\Lib\\site-packages\\xgboost\\core.py:620\u001b[0m, in \u001b[0;36mrequire_keyword_args.<locals>.throw_if.<locals>.inner_f\u001b[1;34m(*args, **kwargs)\u001b[0m\n\u001b[0;32m    618\u001b[0m \u001b[38;5;28;01mfor\u001b[39;00m k, arg \u001b[38;5;129;01min\u001b[39;00m \u001b[38;5;28mzip\u001b[39m(sig\u001b[38;5;241m.\u001b[39mparameters, args):\n\u001b[0;32m    619\u001b[0m     kwargs[k] \u001b[38;5;241m=\u001b[39m arg\n\u001b[1;32m--> 620\u001b[0m \u001b[38;5;28;01mreturn\u001b[39;00m \u001b[43mfunc\u001b[49m\u001b[43m(\u001b[49m\u001b[38;5;241;43m*\u001b[39;49m\u001b[38;5;241;43m*\u001b[39;49m\u001b[43mkwargs\u001b[49m\u001b[43m)\u001b[49m\n",
      "File \u001b[1;32m~\\miniconda3\\envs\\data1030project\\Lib\\site-packages\\xgboost\\training.py:185\u001b[0m, in \u001b[0;36mtrain\u001b[1;34m(params, dtrain, num_boost_round, evals, obj, feval, maximize, early_stopping_rounds, evals_result, verbose_eval, xgb_model, callbacks, custom_metric)\u001b[0m\n\u001b[0;32m    183\u001b[0m \u001b[38;5;28;01mif\u001b[39;00m cb_container\u001b[38;5;241m.\u001b[39mbefore_iteration(bst, i, dtrain, evals):\n\u001b[0;32m    184\u001b[0m     \u001b[38;5;28;01mbreak\u001b[39;00m\n\u001b[1;32m--> 185\u001b[0m \u001b[43mbst\u001b[49m\u001b[38;5;241;43m.\u001b[39;49m\u001b[43mupdate\u001b[49m\u001b[43m(\u001b[49m\u001b[43mdtrain\u001b[49m\u001b[43m,\u001b[49m\u001b[43m \u001b[49m\u001b[43mi\u001b[49m\u001b[43m,\u001b[49m\u001b[43m \u001b[49m\u001b[43mobj\u001b[49m\u001b[43m)\u001b[49m\n\u001b[0;32m    186\u001b[0m \u001b[38;5;28;01mif\u001b[39;00m cb_container\u001b[38;5;241m.\u001b[39mafter_iteration(bst, i, dtrain, evals):\n\u001b[0;32m    187\u001b[0m     \u001b[38;5;28;01mbreak\u001b[39;00m\n",
      "File \u001b[1;32m~\\miniconda3\\envs\\data1030project\\Lib\\site-packages\\xgboost\\core.py:1918\u001b[0m, in \u001b[0;36mBooster.update\u001b[1;34m(self, dtrain, iteration, fobj)\u001b[0m\n\u001b[0;32m   1915\u001b[0m \u001b[38;5;28mself\u001b[39m\u001b[38;5;241m.\u001b[39m_validate_dmatrix_features(dtrain)\n\u001b[0;32m   1917\u001b[0m \u001b[38;5;28;01mif\u001b[39;00m fobj \u001b[38;5;129;01mis\u001b[39;00m \u001b[38;5;28;01mNone\u001b[39;00m:\n\u001b[1;32m-> 1918\u001b[0m     _check_call(\u001b[43m_LIB\u001b[49m\u001b[38;5;241;43m.\u001b[39;49m\u001b[43mXGBoosterUpdateOneIter\u001b[49m\u001b[43m(\u001b[49m\u001b[38;5;28;43mself\u001b[39;49m\u001b[38;5;241;43m.\u001b[39;49m\u001b[43mhandle\u001b[49m\u001b[43m,\u001b[49m\n\u001b[0;32m   1919\u001b[0m \u001b[43m                                            \u001b[49m\u001b[43mctypes\u001b[49m\u001b[38;5;241;43m.\u001b[39;49m\u001b[43mc_int\u001b[49m\u001b[43m(\u001b[49m\u001b[43miteration\u001b[49m\u001b[43m)\u001b[49m\u001b[43m,\u001b[49m\n\u001b[0;32m   1920\u001b[0m \u001b[43m                                            \u001b[49m\u001b[43mdtrain\u001b[49m\u001b[38;5;241;43m.\u001b[39;49m\u001b[43mhandle\u001b[49m\u001b[43m)\u001b[49m)\n\u001b[0;32m   1921\u001b[0m \u001b[38;5;28;01melse\u001b[39;00m:\n\u001b[0;32m   1922\u001b[0m     pred \u001b[38;5;241m=\u001b[39m \u001b[38;5;28mself\u001b[39m\u001b[38;5;241m.\u001b[39mpredict(dtrain, output_margin\u001b[38;5;241m=\u001b[39m\u001b[38;5;28;01mTrue\u001b[39;00m, training\u001b[38;5;241m=\u001b[39m\u001b[38;5;28;01mTrue\u001b[39;00m)\n",
      "\u001b[1;31mKeyboardInterrupt\u001b[0m: "
     ]
    }
   ],
   "source": [
    "xgb = xgboost.XGBRegressor(seed=0, n_estimators=10000, learning_rate=0.03, colsample_bytree=0.9, subsample=0.66)\n",
    "xgb_params = {\n",
    "    'xgbregressor__reg_alpha': [0e0, 1e-2, 1e-1, 1e0, 1e1, 1e2],\n",
    "    'xgbregressor__lambda': [0e0, 1e-2, 1e-1, 1e0, 1e1, 1e2],\n",
    "    'xgbregressor__max_depth': [1, 3, 10, 30, 100]\n",
    "}\n",
    "xgb_test_scores, xgb_best_models, xgb_test_Xs, xgb_test_ys = MLpipe_Stratified_Continous_RMSE(X, y, preprocessor=preprocessor, ML_algo=xgb, param_grid=xgb_params, xgb=True)"
   ]
  },
  {
   "cell_type": "code",
   "execution_count": null,
   "id": "dc0abc65-0149-4c01-a8dc-44c3b79ad205",
   "metadata": {},
   "outputs": [],
   "source": [
    "print('****Metrics with XGB Regressor:****')\n",
    "mean = np.mean(xgb_test_scores)\n",
    "std = np.std(xgb_test_scores)\n",
    "models_rmses['XGBoost']['mean'] = mean\n",
    "models_rmses['XGBoost']['std dev'] = std\n",
    "print('Mean RMSE:', mean)\n",
    "print('Std. Deviation of RMSE:', std)"
   ]
  },
  {
   "cell_type": "code",
   "execution_count": null,
   "id": "d3bd4df9-9df3-40ae-a04a-bd08fb203b7b",
   "metadata": {},
   "outputs": [],
   "source": [
    "file = open('../results/xgboost.save', 'wb')\n",
    "best_model_index = np.argmin(xgb_test_scores)\n",
    "pickle.dump((xgb_best_models[best_model_index], xgb_test_Xs[best_model_index], xgb_test_ys[best_model_index]), file)\n",
    "file.close()"
   ]
  },
  {
   "cell_type": "markdown",
   "id": "39acb1f3-c621-4115-b0cb-57bcce747652",
   "metadata": {},
   "source": [
    "### RESULTS"
   ]
  },
  {
   "cell_type": "code",
   "execution_count": null,
   "id": "d2634de2-f243-4575-bd0a-1ea61f3260ab",
   "metadata": {},
   "outputs": [],
   "source": [
    "models_rmses"
   ]
  },
  {
   "cell_type": "markdown",
   "id": "d4089a5a-96f2-4538-887d-b425b9b10728",
   "metadata": {},
   "source": [
    "# Split, Train, and Cross Validate - RMSE Evaluation Metric"
   ]
  },
  {
   "cell_type": "markdown",
   "id": "94fca8b3-3d56-4c89-8443-2e48173146db",
   "metadata": {},
   "source": [
    "### Set up functions for automated pipeline"
   ]
  },
  {
   "cell_type": "code",
   "execution_count": null,
   "id": "6b1da55f-4dc6-4ad5-91d9-85c647a67ef8",
   "metadata": {},
   "outputs": [],
   "source": [
    "def MLpipe_Stratified_Continous_r2(X, y, preprocessor, ML_algo, param_grid, xgb=False):\n",
    "    '''\n",
    "    This function splits the data to train, validation, and test (60/20/20).\n",
    "    The R^2 is maximized in cross-validation.\n",
    "    \n",
    "    This function:\n",
    "    1. Loops through 10 different random states\n",
    "    2. Splits the data 60/20/20.\n",
    "    3. Fits a model with the predefined Preprocessor, trains the model with each hyperparameter combination in param_grid\n",
    "    4. Calculates the model's error on the test set on the model with the best hyperparameter combinations in param_grid\n",
    "    5. Returns a list of 10 test scores and 10 best models\n",
    "    '''\n",
    "    \n",
    "    # lists to be returned\n",
    "    test_scores = []\n",
    "    best_models = []\n",
    "    test_Xs = []\n",
    "    test_ys = []\n",
    "\n",
    "    nr_states = 10\n",
    "    for i in range(nr_states):\n",
    "        rs = 28 * i\n",
    "        print('Random State:', rs)\n",
    "\n",
    "        # split\n",
    "        X_train, y_train, X_val, y_val, X_test, y_test = stratified_continuous_split(X, y, train_size=0.6, val_size=0.2, test_size=0.2, random_state=rs)\n",
    "\n",
    "        # preprocess\n",
    "        X_train_prep = preprocessor.fit_transform(X_train)\n",
    "        X_val_prep = preprocessor.transform(X_val)\n",
    "        X_test_prep = preprocessor.transform(X_test)\n",
    "\n",
    "        # final preprocess with Standard Scaler so that I can use the coefficients of linear models as global importance metrics\n",
    "        final_scaler = StandardScaler()\n",
    "        X_train_prep = final_scaler.fit_transform(X_train_prep)\n",
    "        X_val_prep = final_scaler.transform(X_val_prep)\n",
    "        X_test_prep = final_scaler.transform(X_test_prep)\n",
    "\n",
    "        test_Xs.append(X_test_prep)\n",
    "        test_ys.append(y_test)\n",
    "\n",
    "        # train and perform cross-validation        \n",
    "        models = []\n",
    "        val_scores = []\n",
    "        for p in range(len(ParameterGrid(param_grid))):\n",
    "            params = ParameterGrid(param_grid)[p]\n",
    "            # print(' ',params) # TEMPORARY\n",
    "\n",
    "            if (xgb):\n",
    "                clf = ML_algo.fit(X_train_prep, y_train, early_stopping_rounds=50, eval_set=[(X_val_prep, y_val)])\n",
    "            else:\n",
    "                clf = ML_algo.fit(X_train_prep, y_train)\n",
    "            models.append(clf)\n",
    "            y_val_pred = clf.predict(X_val_prep)\n",
    "            val_scores.append(r2_score(y_val, y_val_pred))\n",
    "            # print(' Validation R^2:', val_scores[-1]) # TEMPORARY\n",
    "\n",
    "        # save results\n",
    "        print('    Best Model Parameters:', ParameterGrid(param_grid)[np.argmax(val_scores)])\n",
    "        print('    Validation Set R^2:', np.max(val_scores))\n",
    "        best_model_this_rs = models[np.argmax(val_scores)]\n",
    "        best_models.append(best_model_this_rs)\n",
    "        y_test_pred = best_model_this_rs.predict(X_test_prep)\n",
    "        test_score = r2_score(y_test, y_test_pred)\n",
    "        test_scores.append(test_score)\n",
    "        print('    Baseline R^2 (test set):', r2_score(y_test, pd.Series([2]*len(y_test))))\n",
    "        print('    Test Set R^2:', test_score)\n",
    "        \n",
    "    return test_scores, best_models, test_Xs, test_ys"
   ]
  },
  {
   "cell_type": "markdown",
   "id": "49002caa-9a85-406a-ad6c-91f79e15154e",
   "metadata": {},
   "source": [
    "### Run and Cross Validate Several Models - R^2"
   ]
  },
  {
   "cell_type": "code",
   "execution_count": null,
   "id": "cb276780-06b8-4e61-92b9-51d3cb5f2ef1",
   "metadata": {},
   "outputs": [],
   "source": [
    "# keeping track of scores\n",
    "models_r2s = pd.DataFrame(columns=['R^2', 'l1', 'l2', 'elastic net', 'random forest', 'SVR', 'XGBoost'])\n",
    "models_r2s['R^2'] = pd.Series(['mean', 'std dev'])\n",
    "models_r2s = models_r2s.set_index('R^2')"
   ]
  },
  {
   "cell_type": "markdown",
   "id": "dfb52a43-bed0-4195-925f-6ab8a2637025",
   "metadata": {},
   "source": [
    "#### (1) Linear Regression with l1 Regularization"
   ]
  },
  {
   "cell_type": "code",
   "execution_count": null,
   "id": "84c77a94-8503-40c3-94da-abfc0c988e33",
   "metadata": {},
   "outputs": [],
   "source": [
    "lin_reg_l1 = Lasso(random_state=random_state)\n",
    "l1_params = {\n",
    "    'lasso__alpha': np.linspace(math.exp(-2), math.exp(2), 21)\n",
    "}\n",
    "l1_test_scores_r2, l1_best_models_r2, l1_test_Xs_r2, l1_test_ys_r2 = MLpipe_Stratified_Continous_r2(X, y, preprocessor=preprocessor, ML_algo=lin_reg_l1, param_grid=l1_params)"
   ]
  },
  {
   "cell_type": "code",
   "execution_count": null,
   "id": "390767ed-9788-4063-ba22-a18b125b0d32",
   "metadata": {},
   "outputs": [],
   "source": []
  }
 ],
 "metadata": {
  "kernelspec": {
   "display_name": "Python 3 (ipykernel)",
   "language": "python",
   "name": "python3"
  },
  "language_info": {
   "codemirror_mode": {
    "name": "ipython",
    "version": 3
   },
   "file_extension": ".py",
   "mimetype": "text/x-python",
   "name": "python",
   "nbconvert_exporter": "python",
   "pygments_lexer": "ipython3",
   "version": "3.11.4"
  }
 },
 "nbformat": 4,
 "nbformat_minor": 5
}
