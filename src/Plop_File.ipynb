{
 "cells": [
  {
   "cell_type": "markdown",
   "id": "6a345b12-f8a0-4cd4-a246-ba8f40445a49",
   "metadata": {},
   "source": [
    "## stratified continuous split to just split into 2:"
   ]
  },
  {
   "cell_type": "code",
   "execution_count": 1,
   "id": "2c34c06d-6c05-4f4a-9c20-ba65821012cd",
   "metadata": {},
   "outputs": [],
   "source": [
    "# def stratified_continuous_split(X:pd.DataFrame, y:pd.Series, train_size:float, val_size:float, test_size:float, random_state:int):\n",
    "#     '''\n",
    "#     Performs a stratified split of inputted data (with respect to y) into 2 sets of specified percentages \n",
    "#     of the data using verstack's scsplit and performs basic error checking.\n",
    "\n",
    "#     Parameters:\n",
    "#     - X: a 2D pandas DataFrame, the feature matrix\n",
    "#     - y: a 1D pandas Series, the target variable matrix matching X\n",
    "#     - train_size: a float between 0 and 1, the percentage of X which should be training data\n",
    "#     - test_size: a float between 0 and 1, the percentage of X which should be reserved for testing\n",
    "#     - random_state: an int, the random state to split with\n",
    "#     Note: The sum of train_size + test_size must be 1.0 (100% of X).\n",
    "\n",
    "#     Returns:\n",
    "#     - (X_train) a 2D pandas DataFrame, the feature matrix of training data\n",
    "#     - (y_train) a 1D pandas Series, the target variable matrix for training data\n",
    "#     - (X_test) a 2D pandas DataFrame, the feature matrix of testing data\n",
    "#     - (y_test) a 1D pandas Series, the target variable matrix for testing data\n",
    "\n",
    "#     Raises:\n",
    "#     - ValueError for invalid input\n",
    "#     '''\n",
    "#     from verstack.stratified_continuous_split import scsplit\n",
    "    \n",
    "#     if ((train_size + val_size + test_size) != 1):\n",
    "#         raise ValueError('Your train_size + test_size must add up to 1 (100%)!')\n",
    "#     if (not isinstance(random_state, int)):\n",
    "#         raise ValueError('Your random_state must be an int!')\n",
    "\n",
    "#     X_train, X_other, y_train, y_other = scsplit(X, y, stratify=y, test_size=test_size, random_state=random_state)\n",
    "\n",
    "#     # basic error checking to check that split returned train and test of expected sizes\n",
    "#     train_count_low = (int)(train_size * X_len)\n",
    "#     train_count_high = ceil(train_size * X_len)\n",
    "#     test_count_low = (int)(test_size * X_len)\n",
    "#     test_count_high = ceil(test_size * X_len)\n",
    "    \n",
    "#     Xtrain_fin = X_train.shape[0]\n",
    "#     ytrain_fin = y_train.shape[0]\n",
    "#     Xtest_fin = X_test.shape[0]\n",
    "#     ytest_fin = y_test.shape[0]\n",
    "    \n",
    "#     if not (((Xtrain_fin == train_count_low) or (Xtrain_fin == train_count_high)) and ((ytrain_fin == train_count_low) or (ytrain_fin == train_count_high))):\n",
    "#         raise ValueError(f'Training set size should be approx. {train_size * X_len}, instead is: {X_train.shape[0]}')\n",
    "#     if not (((Xtest_fin == test_count_low) or (Xtest_fin == test_count_high)) and ((ytest_fin == test_count_low) or (ytest_fin == test_count_high))):\n",
    "#         raise ValueError(f'Test set size should be approx. {test_size * X_len}, instead is: {X_test.shape[0]}')\n",
    "\n",
    "#     return X_train, y_train, X_test, y_test"
   ]
  },
  {
   "cell_type": "markdown",
   "id": "207f4a08-cc02-4a83-b171-5ee1fa108af1",
   "metadata": {},
   "source": [
    "## ML pipeline with GridSearchCV, incomplete:"
   ]
  },
  {
   "cell_type": "code",
   "execution_count": 2,
   "id": "98f2036d-b647-4fb6-9aa4-7f71478dc1ff",
   "metadata": {},
   "outputs": [],
   "source": [
    "def MLpipe_Stratified_Continous_RMSE(X, y, preprocessor, ML_algo, param_grid):\n",
    "    '''\n",
    "    This function splits the data to train, validation, and test (60/20/20).\n",
    "    The RMSE is minimized in cross-validation.\n",
    "    \n",
    "    This function:\n",
    "    1. Loops through 10 different random states\n",
    "    2. Splits the data 60/20/20.\n",
    "    3. Fits a model using GridSearchCV with the predefined Preprocessor \n",
    "    4. Calculates the model's error on the test set \n",
    "    5. Returns a list of 10 test scores and 10 best models\n",
    "    '''\n",
    "    \n",
    "    # lists to be returned\n",
    "    test_scores = []\n",
    "    best_models = []\n",
    "\n",
    "    nr_states = 10\n",
    "    for i in range(nr_states):\n",
    "        rs = 28 * i\n",
    "        print('Random State:', rs) # TEMPORARY\n",
    "\n",
    "        # split\n",
    "        X_train, y_train, X_val, y_val, X_test, y_test = stratified_continous_split(X, y, train_size=0.6, val_size=0.2, test_size=0.2, random_state=rs)\n",
    "        \n",
    "        # preprocess, train, and perform cross-validation\n",
    "        pipe = make_pipeline(preprocessor, ML_algo)\n",
    "        grid = GridSearchCV(pipe, param_grid=param_grid, scoring='neg_mean_squared_error', # using PredefinedSplit??????\n",
    "                            cv=kf, return_train_score=True, n_jobs=-1, verbose=True)\n",
    "        grid.fit(X_other, y_other)\n",
    "        results = pd.DataFrame(grid.cv_results_)\n",
    "        #print(results) # TEMPORARY\n",
    "\n",
    "        # save results\n",
    "        print('    Best Model Parameters:', grid.best_params_) # TEMPORARY\n",
    "        print('    Validation RMSE Score:', grid.best_score_) # TEMPORARY\n",
    "        best_models.append(grid)\n",
    "        y_test_pred = grid.predict(X_test)\n",
    "        test_score = mean_squared_error(y_test, y_test_pred, squared=False)\n",
    "        test_scores.append(test_score)\n",
    "        print('    Test RMSE Score:', test_score) # TEMPORARY\n",
    "        \n",
    "    return test_scores, best_models"
   ]
  },
  {
   "cell_type": "code",
   "execution_count": null,
   "id": "5835e17f-386a-4e24-aab2-65c972b68590",
   "metadata": {},
   "outputs": [],
   "source": []
  }
 ],
 "metadata": {
  "kernelspec": {
   "display_name": "Python 3 (ipykernel)",
   "language": "python",
   "name": "python3"
  },
  "language_info": {
   "codemirror_mode": {
    "name": "ipython",
    "version": 3
   },
   "file_extension": ".py",
   "mimetype": "text/x-python",
   "name": "python",
   "nbconvert_exporter": "python",
   "pygments_lexer": "ipython3",
   "version": "3.11.4"
  }
 },
 "nbformat": 4,
 "nbformat_minor": 5
}
